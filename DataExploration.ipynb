{
 "cells": [
  {
   "cell_type": "markdown",
   "metadata": {},
   "source": [
    "# 1. Create SQL database for traffic crash datasets\n",
    "\n",
    "EDA Notes:\n",
    " * accident_year in traffic_crash_all is inaccurate. There are incidents in 2025 and 2026"
   ]
  },
  {
   "cell_type": "code",
   "execution_count": 17,
   "metadata": {},
   "outputs": [],
   "source": [
    "#import libraries \n",
    "import sqlite3\n",
    "import pandas as pd"
   ]
  },
  {
   "cell_type": "code",
   "execution_count": 16,
   "metadata": {},
   "outputs": [
    {
     "name": "stderr",
     "output_type": "stream",
     "text": [
      "C:\\Users\\yong2\\AppData\\Local\\Temp\\ipykernel_26604\\3554752354.py:15: DtypeWarning: Columns (3,15) have mixed types. Specify dtype option on import or set low_memory=False.\n",
      "  df = pd.read_csv(csv_file)\n",
      "C:\\Users\\yong2\\AppData\\Local\\Temp\\ipykernel_26604\\3554752354.py:15: DtypeWarning: Columns (3,15) have mixed types. Specify dtype option on import or set low_memory=False.\n",
      "  df = pd.read_csv(csv_file)\n",
      "C:\\Users\\yong2\\AppData\\Local\\Temp\\ipykernel_26604\\3554752354.py:15: DtypeWarning: Columns (3,15) have mixed types. Specify dtype option on import or set low_memory=False.\n",
      "  df = pd.read_csv(csv_file)\n"
     ]
    }
   ],
   "source": [
    "#list the csv files\n",
    "csv_files = [\n",
    "    ('Data/Traffic_Crashes_Resulting_in_Fatality_20240819.csv', 'traffic_crash_fatality'),\n",
    "    ('Data/Traffic_Crashes_Resulting_in_Injury__Parties_Involved_20240819.csv', 'traffic_crash_parties'),\n",
    "    ('Data/Traffic_Crashes_Resulting_in_Injury__Victims_Involved_20240819.csv', 'traffic_crash_victims'),\n",
    "    ('Data/Traffic_Crashes_Resulting_in_Injury_20240819.csv', 'traffic_crash_all')\n",
    "]\n",
    "\n",
    "#create/connect to sqlite database\n",
    "conn = sqlite3.connect(\"traffic_crash.db\")\n",
    "\n",
    "#import the data into the correct table\n",
    "for csv_file, table_name in csv_files:\n",
    "    #read the file\n",
    "    df = pd.read_csv(csv_file)\n",
    "    df.to_sql(table_name, conn, if_exists='replace', index=False)\n",
    "\n",
    "#close the connect\n",
    "conn.close()"
   ]
  },
  {
   "cell_type": "markdown",
   "metadata": {},
   "source": []
  },
  {
   "cell_type": "code",
   "execution_count": null,
   "metadata": {},
   "outputs": [],
   "source": [
    "#connect to the database\n",
    "conn = sqlite3.connect('traffic_crash.db')\n",
    "\n",
    "# Create a cursor object\n",
    "cursor = conn.cursor()\n",
    "\n"
   ]
  },
  {
   "cell_type": "code",
   "execution_count": 77,
   "metadata": {},
   "outputs": [
    {
     "name": "stdout",
     "output_type": "stream",
     "text": [
      "incident_year  incidents_per_year  number_killed_per_year  number_injured_per_year\n",
      "-------------  ------------------  ----------------------  -----------------------\n",
      "2005           3257                27.0                    4437                   \n",
      "2006           2896                30.0                    3806                   \n",
      "2007           3065                42.0                    3957                   \n",
      "2008           3039                27.0                    3864                   \n",
      "2009           2900                31.0                    3702                   \n",
      "2010           3095                22.0                    3942                   \n",
      "2011           3097                28.0                    3842                   \n",
      "2012           3270                29.0                    4018                   \n",
      "2013           3071                35.0                    3854                   \n",
      "2014           2967                31.0                    3675                   \n",
      "2015           3057                31.0                    3784                   \n",
      "2016           3328                28.0                    4163                   \n",
      "2017           3430                20.0                    4256                   \n",
      "2018           3307                24.0                    4125                   \n",
      "2019           3485                31.0                    4236                   \n",
      "2020           2454                30.0                    2966                   \n",
      "2021           2758                26.0                    3457                   \n",
      "2022           2882                39.0                    3595                   \n",
      "2023           2927                28.0                    3559                   \n",
      "2024           1197                12.0                    1407                   \n"
     ]
    }
   ],
   "source": [
    "#get the total number of car incidents, number killed and injured for each year\n",
    "!sqlite3 traffic_crash.db -header -column   \\\n",
    "\"SELECT \\\n",
    "SUBSTR(collision_date, 1, 4) AS incident_year,  \\\n",
    "COUNT(*) AS incidents_per_year, \\\n",
    "SUM(number_killed) AS number_killed_per_year,   \\\n",
    "SUM(number_injured) AS number_injured_per_year  \\\n",
    "FROM traffic_crash_all  \\\n",
    "GROUP BY incident_year;\"\n",
    "\n"
   ]
  },
  {
   "cell_type": "code",
   "execution_count": 76,
   "metadata": {},
   "outputs": [
    {
     "name": "stdout",
     "output_type": "stream",
     "text": [
      "primary_rd     n_incidents\n",
      "-------------  -----------\n",
      "MISSION ST     2560       \n",
      "MARKET ST      2129       \n",
      "VAN NESS AVE   1452       \n",
      "GEARY BLVD     1156       \n",
      "03RD ST        1099       \n",
      "19TH AVE       880        \n",
      "FULTON ST      861        \n",
      "ALEMANY BLVD   861        \n",
      "CALIFORNIA ST  834        \n",
      "FOLSOM ST      810        \n"
     ]
    }
   ],
   "source": [
    "#get the top 10 streets with the most incidents\n",
    "!sqlite3 traffic_crash.db -header -column   \\\n",
    "\"SELECT \\\n",
    "primary_rd, \\\n",
    "COUNT (*) AS n_incidents    \\\n",
    "FROM traffic_crash_all  \\\n",
    "GROUP BY primary_rd \\\n",
    "ORDER BY n_incidents DESC   \\\n",
    "LIMIT 10;\"\n",
    "\n"
   ]
  },
  {
   "cell_type": "code",
   "execution_count": 78,
   "metadata": {},
   "outputs": [
    {
     "name": "stdout",
     "output_type": "stream",
     "text": [
      "road_surface\n",
      "------------\n",
      "Dry         \n"
     ]
    }
   ],
   "source": [
    "# which road surface incidents (e.g. wet, dry) has the most incidents\n",
    "!sqlite3 traffic_crash.db -header -column   \\\n",
    "\"WITH road_surface_cte AS ( \\\n",
    "SELECT COUNT(*) as n_incidents, road_surface    \\\n",
    "from traffic_crash_all  \\\n",
    "GROUP BY road_surface)  \\\n",
    "SELECT road_surface \\\n",
    "FROM road_surface_cte   \\\n",
    "ORDER BY n_incidents DESC   \\\n",
    "LIMIT 1;\"\n"
   ]
  },
  {
   "cell_type": "code",
   "execution_count": 82,
   "metadata": {},
   "outputs": [
    {
     "name": "stdout",
     "output_type": "stream",
     "text": [
      "time_cat             n_incidents\n",
      "-------------------  -----------\n",
      "2:01 pm to 6:00 pm   15874      \n",
      "10:01 am to 2:00 pm  12197      \n",
      "6:01 pm to 10:00 pm  12159      \n",
      "6:01 am to 10:00 am  10092      \n",
      "10:01 pm to 2:00 am  6377       \n",
      "2:01 am to 6:00 am   2731       \n",
      "                     52         \n"
     ]
    }
   ],
   "source": [
    "# when do collisions tend to happen?\n",
    "!sqlite3 traffic_crash.db -header -column \\\n",
    "\"select time_cat, COUNT(*) AS n_incidents   \\\n",
    "    from traffic_crash_all  \\\n",
    "    group by time_cat   \\\n",
    "    ORDER BY n_incidents DESC;\""
   ]
  },
  {
   "cell_type": "code",
   "execution_count": null,
   "metadata": {},
   "outputs": [],
   "source": [
    "# are incidents involving bikes more likely to have more deaths?\n",
    "#neighboords with the most incidents\n",
    "# type of collision \n",
    "# when do collisions tend to happen"
   ]
  },
  {
   "cell_type": "code",
   "execution_count": 62,
   "metadata": {},
   "outputs": [
    {
     "name": "stdout",
     "output_type": "stream",
     "text": [
      "unique_id  cnn_intrsctn_fkey  cnn_sgmt_fkey  case_id_pkey  tb_latitude       tb_longitude       geocode_source   geocode_location  collision_datetime      collision_date    collision_time  accident_year  month     day_of_week  time_cat             juris  officer_id  reporting_district  beat_number  primary_rd      secondary_rd    distance  direction   weather_1  weather_2   collision_severity          type_of_collision   mviw                 ped_action                   road_surface  road_cond_1           road_cond_2  lighting              control_device   intersection          vz_pcf_code        vz_pcf_group  vz_pcf_description  vz_pcf_link  number_killed  number_injured  street_view                                                                          dph_col_grp  dph_col_grp_description   party_at_fault  party1_type  party1_dir_of_travel  party1_move_pre_acc  party2_type  party2_dir_of_travel  party2_move_pre_acc  point                                data_as_of              data_updated_at         data_loaded_at          analysis_neighborhood  supervisor_district  police_district  Current Police Districts  Current Supervisor Districts  Analysis Neighborhoods  Neighborhoods  SF Find Neighborhoods\n",
      "---------  -----------------  -------------  ------------  ----------------  -----------------  ---------------  ----------------  ----------------------  ----------------  --------------  -------------  --------  -----------  -------------------  -----  ----------  ------------------  -----------  --------------  --------------  --------  ----------  ---------  ----------  --------------------------  ------------------  -------------------  ---------------------------  ------------  --------------------  -----------  --------------------  ---------------  --------------------  -----------------  ------------  ------------------  -----------  -------------  --------------  -----------------------------------------------------------------------------------  -----------  ------------------------  --------------  -----------  --------------------  -------------------  -----------  --------------------  -------------------  -----------------------------------  ----------------------  ----------------------  ----------------------  ---------------------  -------------------  ---------------  ------------------------  ----------------------------  ----------------------  -------------  ---------------------\n",
      "34183      25455000.0         10700000.0     130866974     37.8037156885413  -122.41152986542   SFPD-CROSSROADS  CITY STREET       10/13/2013 02:53:00 PM  2013 October 13   14:53:00        2013           October   Sunday       2:01 pm to 6:00 pm   3801   845         CENTRAL             4K5F         POWELL ST       CHESTNUT ST     91.0      South       Clear      Not Stated  Injury (Other Visible)      Other               Not Stated           No Pedestrian Involved       Dry           No Unusual Condition  Not Stated   Daylight                               Midblock > 20ft       Unknown            Unknown       Unknown             Not Stated   0.0            1               https://maps.google.com/maps?q=&layer=c&cbll=37.8037156885413,-122.41152986542       FF           Bicycle Only                              Bicyclist    North                 Proceeding Straight                                                          POINT (-122.411529865 37.803715689)  10/13/2013 12:00:00 AM  04/26/2023 12:00:00 AM  07/12/2024 03:08:07 PM  North Beach            3.0                  CENTRAL          6.0                       3.0                           23.0                    106.0          106.0                \n",
      "74653      23323000.0                        230136318     37.7189555585722  -122.500220954334  SFPD-INTERIM DB  CITY STREET       02/24/2023 05:30:00 PM  2023 February 24  17:30:00        2023           February  Friday       2:01 pm to 6:00 pm   3801   2143        Taraval             3I15D        SKYLINE BLVD    JOHN MUIR DR    0.0       Not Stated  Clear      Not Stated  Injury (Complaint of Pain)  Broadside           Other Motor Vehicle  No Pedestrian Involved       Dry           No Unusual Condition  Not Stated   Dusk - Dawn           Not Functioning  Intersection <= 20ft                                   Unknown                          0.0            2               https://maps.google.com/maps?q=&layer=c&cbll=37.718955558572205,-122.50022095433432  AA           Vehicle(s) Only Involved                  Driver       North                 Proceeding Straight  Driver       East                  Making Left Turn     POINT (-122.500220954 37.718955559)  04/19/2024 12:00:00 AM  04/30/2024 12:00:00 AM  07/12/2024 03:08:07 PM  Lakeshore              7.0                  TARAVAL          10.0                      8.0                           16.0                    43.0           43.0                 \n",
      "47043      23459000.0         12420000.0     190325506     37.7418985726     -122.501662419     SFPD-INTERIM DB  CITY STREET       05/06/2019 07:11:00 PM  2019 May 06       19:11:00        2019           May       Monday       6:01 pm to 10:00 pm  3801   564         Taraval                          TARAVAL ST      43RD AVE        75.0      West        Clear      Not Stated  Injury (Other Visible)      Other               Fixed Object         No Pedestrian Involved       Dry           Holes, Deep Rut       Not Stated   Daylight                               Midblock > 20ft       Other than driver  Not Stated    Unknown                          0.0            1               https://maps.google.com/maps?q=&layer=c&cbll=37.7418985726,-122.501662419            FF           Bicycle Only                              Bicyclist    West                  Proceeding Straight                                                          POINT (-122.501662419 37.741898573)  06/28/2019 12:00:00 AM  04/26/2023 12:00:00 AM  07/12/2024 03:08:07 PM  Sunset/Parkside        4.0                  TARAVAL          10.0                      7.0                           35.0                    39.0           39.0                 \n",
      "10054      24048000.0         3304000.0      5477567       37.7661398641356  -122.41053735533   SFPD-CROSSROADS  CITY STREET       12/02/2011 01:29:00 PM  2011 December 02  13:29:00        2011           December  Friday       10:01 am to 2:00 pm  3801   747         2                   001          BRYANT ST       16TH ST         195.0     North       Clear      Not Stated  Injury (Complaint of Pain)  Vehicle/Pedestrian  Pedestrian           In Road, Including Shoulder  Dry           No Unusual Condition  Not Stated   Daylight              Functioning      Midblock > 20ft       Unknown            Unknown       Unknown             Not Stated   0.0            1               https://maps.google.com/maps?q=&layer=c&cbll=37.7661398641356,-122.41053735533       BB           Vehicle-Pedestrian                        Driver       South                 Proceeding Straight  Pedestrian   Not Stated            Other                POINT (-122.410537355 37.766139864)  12/02/2011 12:00:00 AM  04/26/2023 12:00:00 AM  07/12/2024 03:08:07 PM  Mission                9.0                  MISSION          3.0                       9.0                           20.0                    53.0           53.0                 \n",
      "57892      30758000.0         8761101.0      220245060     37.7699299690011  -122.425804277739  SFPD-INTERIM DB  CITY STREET       04/14/2022 06:38:00 PM  2022 April 14     18:38:00        2022           April     Thursday     6:01 pm to 10:00 pm  3801   2056        Southern            B4           MARKET ST       BUCHANAN ST     193.0     East        Raining    Not Stated  Injury (Severe)             Not Stated          Non-Collision        No Pedestrian Involved       Wet           No Unusual Condition  Not Stated   Daylight                               Midblock > 20ft       Unknown            Unknown       Unknown                          0.0            1               https://maps.google.com/maps?q=&layer=c&cbll=37.76992996900109,-122.42580427773893   II           Unknown/Not Stated                        Other        Not Stated            Other                                                                        POINT (-122.425804278 37.769929969)  04/21/2022 12:00:00 AM  04/26/2023 12:00:00 AM  07/12/2024 03:08:07 PM  Mission                8.0                  SOUTHERN         1.0                       5.0                           20.0                    27.0           27.0                 \n",
      "48587      20454000.0                        190552737     37.722034717      -122.393171958     SFPD-INTERIM DB  CITY STREET       07/29/2019 09:24:00 PM  2019 July 29      21:24:00        2019           July      Monday       6:01 pm to 10:00 pm  3801   Ryan 1718   Bayview             3C15E        FITZGERALD AVE  JENNINGS ST     0.0       Not Stated  Clear      Not Stated  Injury (Complaint of Pain)  Broadside           Other Motor Vehicle  No Pedestrian Involved       Dry           No Unusual Condition  Not Stated   Dark - Street Lights                   Intersection <= 20ft  Unknown            Unknown       Unknown                          0.0            1               https://maps.google.com/maps?q=&layer=c&cbll=37.722034717,-122.393171958             AA           Vehicle(s) Only Involved                  Driver       South                 Proceeding Straight  Driver       West                  Proceeding Straight  POINT (-122.393171958 37.722034717)  08/01/2019 12:00:00 AM  04/26/2023 12:00:00 AM  07/12/2024 03:08:07 PM  Bayview Hunters Point  10.0                 BAYVIEW          2.0                       9.0                           1.0                     88.0           88.0                 \n",
      "21356      25940000.0         5883000.0      3348076       37.778713268425   -122.423621740315  SFPD-CROSSROADS  CITY STREET       08/22/2007 10:59:00 AM  2007 August 22    10:59:00        2007           August    Wednesday    10:01 am to 2:00 pm  3801   1913                            3E12         FULTON ST       GOUGH ST        78.0      West        Clear      Not Stated  Injury (Complaint of Pain)  Other               Other Object         No Pedestrian Involved       Dry           Holes, Deep Ruts      Not Stated   Daylight                               Midblock > 20ft       Unknown            Unknown       Unknown             Not Stated   0.0            1               https://maps.google.com/maps?q=&layer=c&cbll=37.778713268425,-122.423621740315       AA           Vehicle(s) Only Involved                  Driver       East                  Proceeding Straight                                                          POINT (-122.42362174 37.778713268)   08/22/2007 12:00:00 AM  04/26/2023 12:00:00 AM  07/12/2024 03:08:07 PM  Western Addition       5.0                  NORTHERN         4.0                       11.0                          39.0                    97.0           97.0                 \n",
      "48100      50113000.0         4301000.0      190604479     37.8030408448     -122.414150072     SFPD-INTERIM DB  CITY STREET       08/16/2019 07:17:00 PM  2019 August 16    19:17:00        2019           August    Friday       6:01 pm to 10:00 pm  3801   937         Central             3A3D         COLUMBUS AVE    LOMBARD ST      165.0     North       Clear      Not Stated  Injury (Other Visible)      Other               Other Object         No Pedestrian Involved       Dry           Other                 Not Stated   Daylight                               Midblock > 20ft       Unknown            Unknown       Unknown                          0.0            1               https://maps.google.com/maps?q=&layer=c&cbll=37.8030408448,-122.414150072            FF           Bicycle Only                              Bicyclist    North                 Proceeding Straight                                                          POINT (-122.414150072 37.803040845)  08/21/2019 12:00:00 AM  04/26/2023 12:00:00 AM  07/12/2024 03:08:07 PM  North Beach            3.0                  CENTRAL          6.0                       3.0                           23.0                    106.0          106.0                \n",
      "12485      25804000.0         8767201.0      5606502       37.7639425535747  -122.433567086459  UCB-TIMS         CITY STREET       04/30/2012 07:30:00 AM  2012 April 30     07:30:00        2012           April     Monday       6:01 am to 10:00 am  9335   15209                           901          MARKET ST       16TH ST         150.0     West        Clear      Not Stated  Injury (Other Visible)      Other               Non-Collision        No Pedestrian Involved       Dry           No Unusual Condition  Not Stated   Daylight                               Midblock > 20ft       Unknown            Unknown       Unknown             Not Stated   0.0            1               https://maps.google.com/maps?q=&layer=c&cbll=37.7639425535747,-122.433567086459      AA           Vehicle(s) Only Involved                  Driver       West                  Proceeding Straight                                                          POINT (-122.433567086 37.763942554)  04/30/2012 12:00:00 AM  04/26/2023 12:00:00 AM  07/12/2024 03:08:07 PM  Castro/Upper Market    8.0                  MISSION          3.0                       5.0                           5.0                     28.0           28.0                 \n",
      "24515      24934000.0         12719000.0     170625990     37.7827901670899  -122.414087276814  SFPD-CROSSROADS  CITY STREET       08/01/2017 05:45:00 PM  2017 August 01    17:45:00        2017           August    Tuesday      2:01 pm to 6:00 pm   3801   293         NORTHERN            3E12D        TURK ST         LEAVENWORTH ST  10.0      West        Clear      Not Stated  Injury (Complaint of Pain)  Rear End            Bicycle              No Pedestrian Involved       Dry           No Unusual Condition  Not Stated   Daylight              Functioning      Intersection <= 20ft  Unknown            Unknown       Unknown             Not Stated   0.0            1               https://maps.google.com/maps?q=&layer=c&cbll=37.7827901670899,-122.414087276814      CC           Vehicle-Bicycle           1.0             Driver       West                  Proceeding Straight  Bicyclist    West                  Stopped In Road      POINT (-122.414087277 37.782790167)  08/01/2017 12:00:00 AM  04/26/2023 12:00:00 AM  07/12/2024 03:08:07 PM  Tenderloin             5.0                  TENDERLOIN       5.0                       10.0                          36.0                    20.0           20.0                 \n"
     ]
    }
   ],
   "source": [
    "!sqlite3 traffic_crash.db -header -column \\\n",
    "\"select * from traffic_crash_all limit 10;\""
   ]
  },
  {
   "cell_type": "code",
   "execution_count": 45,
   "metadata": {},
   "outputs": [
    {
     "name": "stdout",
     "output_type": "stream",
     "text": [
      "cid  name                          type     notnull  dflt_value  pk\n",
      "---  ----------------------------  -------  -------  ----------  --\n",
      "0    unique_id                     INTEGER  0                    0 \n",
      "1    cnn_intrsctn_fkey             REAL     0                    0 \n",
      "2    cnn_sgmt_fkey                 REAL     0                    0 \n",
      "3    case_id_pkey                  TEXT     0                    0 \n",
      "4    tb_latitude                   REAL     0                    0 \n",
      "5    tb_longitude                  REAL     0                    0 \n",
      "6    geocode_source                TEXT     0                    0 \n",
      "7    geocode_location              TEXT     0                    0 \n",
      "8    collision_datetime            TEXT     0                    0 \n",
      "9    collision_date                TEXT     0                    0 \n",
      "10   collision_time                TEXT     0                    0 \n",
      "11   accident_year                 INTEGER  0                    0 \n",
      "12   month                         TEXT     0                    0 \n",
      "13   day_of_week                   TEXT     0                    0 \n",
      "14   time_cat                      TEXT     0                    0 \n",
      "15   juris                         TEXT     0                    0 \n",
      "16   officer_id                    TEXT     0                    0 \n",
      "17   reporting_district            TEXT     0                    0 \n",
      "18   beat_number                   TEXT     0                    0 \n",
      "19   primary_rd                    TEXT     0                    0 \n",
      "20   secondary_rd                  TEXT     0                    0 \n",
      "21   distance                      REAL     0                    0 \n",
      "22   direction                     TEXT     0                    0 \n",
      "23   weather_1                     TEXT     0                    0 \n",
      "24   weather_2                     TEXT     0                    0 \n",
      "25   collision_severity            TEXT     0                    0 \n",
      "26   type_of_collision             TEXT     0                    0 \n",
      "27   mviw                          TEXT     0                    0 \n",
      "28   ped_action                    TEXT     0                    0 \n",
      "29   road_surface                  TEXT     0                    0 \n",
      "30   road_cond_1                   TEXT     0                    0 \n",
      "31   road_cond_2                   TEXT     0                    0 \n",
      "32   lighting                      TEXT     0                    0 \n",
      "33   control_device                TEXT     0                    0 \n",
      "34   intersection                  TEXT     0                    0 \n",
      "35   vz_pcf_code                   TEXT     0                    0 \n",
      "36   vz_pcf_group                  TEXT     0                    0 \n",
      "37   vz_pcf_description            TEXT     0                    0 \n",
      "38   vz_pcf_link                   TEXT     0                    0 \n",
      "39   number_killed                 REAL     0                    0 \n",
      "40   number_injured                INTEGER  0                    0 \n",
      "41   street_view                   TEXT     0                    0 \n",
      "42   dph_col_grp                   TEXT     0                    0 \n",
      "43   dph_col_grp_description       TEXT     0                    0 \n",
      "44   party_at_fault                REAL     0                    0 \n",
      "45   party1_type                   TEXT     0                    0 \n",
      "46   party1_dir_of_travel          TEXT     0                    0 \n",
      "47   party1_move_pre_acc           TEXT     0                    0 \n",
      "48   party2_type                   TEXT     0                    0 \n",
      "49   party2_dir_of_travel          TEXT     0                    0 \n",
      "50   party2_move_pre_acc           TEXT     0                    0 \n",
      "51   point                         TEXT     0                    0 \n",
      "52   data_as_of                    TEXT     0                    0 \n",
      "53   data_updated_at               TEXT     0                    0 \n",
      "54   data_loaded_at                TEXT     0                    0 \n",
      "55   analysis_neighborhood         TEXT     0                    0 \n",
      "56   supervisor_district           REAL     0                    0 \n",
      "57   police_district               TEXT     0                    0 \n",
      "58   Current Police Districts      REAL     0                    0 \n",
      "59   Current Supervisor Districts  REAL     0                    0 \n",
      "60   Analysis Neighborhoods        REAL     0                    0 \n",
      "61   Neighborhoods                 REAL     0                    0 \n",
      "62   SF Find Neighborhoods         REAL     0                    0 \n"
     ]
    }
   ],
   "source": [
    "!sqlite3 traffic_crash.db -header -column \\\n",
    "\"PRAGMA table_info(traffic_crash_all);\""
   ]
  }
 ],
 "metadata": {
  "kernelspec": {
   "display_name": "projects",
   "language": "python",
   "name": "python3"
  },
  "language_info": {
   "codemirror_mode": {
    "name": "ipython",
    "version": 3
   },
   "file_extension": ".py",
   "mimetype": "text/x-python",
   "name": "python",
   "nbconvert_exporter": "python",
   "pygments_lexer": "ipython3",
   "version": "3.11.7"
  }
 },
 "nbformat": 4,
 "nbformat_minor": 2
}
