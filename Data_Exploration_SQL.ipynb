{
 "cells": [
  {
   "cell_type": "markdown",
   "metadata": {},
   "source": [
    "# 1. Create SQL database for traffic crash datasets"
   ]
  },
  {
   "cell_type": "code",
   "execution_count": 148,
   "metadata": {},
   "outputs": [],
   "source": [
    "#import libraries \n",
    "import sqlite3\n",
    "import pandas as pd\n"
   ]
  },
  {
   "cell_type": "code",
   "execution_count": 2,
   "metadata": {},
   "outputs": [
    {
     "name": "stderr",
     "output_type": "stream",
     "text": [
      "c:\\Users\\yong2\\miniconda3\\envs\\py37\\lib\\site-packages\\IPython\\core\\interactiveshell.py:3552: DtypeWarning: Columns (3,15) have mixed types.Specify dtype option on import or set low_memory=False.\n",
      "  exec(code_obj, self.user_global_ns, self.user_ns)\n",
      "c:\\Users\\yong2\\miniconda3\\envs\\py37\\lib\\site-packages\\pandas\\core\\generic.py:2882: UserWarning: The spaces in these column names will not be changed. In pandas versions < 0.14, spaces were converted to underscores.\n",
      "  method=method,\n"
     ]
    }
   ],
   "source": [
    "#list the csv files\n",
    "csv_files = [\n",
    "    ('Data/Traffic_Crashes_Resulting_in_Fatality_20240819.csv', 'traffic_crash_fatality'),\n",
    "    ('Data/Traffic_Crashes_Resulting_in_Injury__Parties_Involved_20240819.csv', 'traffic_crash_parties'),\n",
    "    ('Data/Traffic_Crashes_Resulting_in_Injury__Victims_Involved_20240819.csv', 'traffic_crash_victims'),\n",
    "    ('Data/Traffic_Crashes_Resulting_in_Injury_20240819.csv', 'traffic_crash_all')\n",
    "]\n",
    "\n",
    "#create/connect to sqlite database\n",
    "conn = sqlite3.connect(\"traffic_crash.db\")\n",
    "\n",
    "#import the data into the correct table\n",
    "for csv_file, table_name in csv_files:\n",
    "    #read the file\n",
    "    df = pd.read_csv(csv_file)\n",
    "    df.to_sql(table_name, conn, if_exists='replace', index=False)\n",
    "\n",
    "#close the connect\n",
    "conn.close()"
   ]
  },
  {
   "cell_type": "markdown",
   "metadata": {},
   "source": [
    "# 2. Data Wrangling"
   ]
  },
  {
   "cell_type": "code",
   "execution_count": 107,
   "metadata": {},
   "outputs": [
    {
     "name": "stdout",
     "output_type": "stream",
     "text": [
      "The sql extension is already loaded. To reload it, use:\n",
      "  %reload_ext sql\n"
     ]
    }
   ],
   "source": [
    "%load_ext sql\n",
    "%sql sqlite:///traffic_crash.db"
   ]
  },
  {
   "cell_type": "markdown",
   "metadata": {},
   "source": [
    "ISSUE #1: There should only be one case_id_pkey for each incident in traffic_crash_all, but case_id_pkey 200376243 has 2 entries. Remove one row corresponding to case_id_pkey 200376243, since the information is the same. "
   ]
  },
  {
   "cell_type": "code",
   "execution_count": 104,
   "metadata": {},
   "outputs": [
    {
     "name": "stdout",
     "output_type": "stream",
     "text": [
      "   sqlite://\n",
      " * sqlite:///traffic_crash.db\n",
      "Done.\n"
     ]
    },
    {
     "data": {
      "text/html": [
       "<table>\n",
       "    <thead>\n",
       "        <tr>\n",
       "            <th>case_id_pkey</th>\n",
       "            <th>n_incidents</th>\n",
       "        </tr>\n",
       "    </thead>\n",
       "    <tbody>\n",
       "        <tr>\n",
       "            <td>200376243</td>\n",
       "            <td>2</td>\n",
       "        </tr>\n",
       "    </tbody>\n",
       "</table>"
      ],
      "text/plain": [
       "[('200376243', 2)]"
      ]
     },
     "execution_count": 104,
     "metadata": {},
     "output_type": "execute_result"
    }
   ],
   "source": [
    "%%sql\n",
    "\n",
    "SELECT\n",
    "    case_id_pkey, \n",
    "    count(*) AS n_incidents \n",
    "FROM \n",
    "    traffic_crash_all\n",
    "GROUP BY \n",
    "    case_id_pkey\n",
    "HAVING \n",
    "    n_incidents > 1"
   ]
  },
  {
   "cell_type": "code",
   "execution_count": 106,
   "metadata": {},
   "outputs": [
    {
     "name": "stdout",
     "output_type": "stream",
     "text": [
      "   sqlite://\n",
      " * sqlite:///traffic_crash.db\n",
      "Done.\n"
     ]
    },
    {
     "data": {
      "text/html": [
       "<table>\n",
       "    <thead>\n",
       "        <tr>\n",
       "            <th>unique_id</th>\n",
       "            <th>cnn_intrsctn_fkey</th>\n",
       "            <th>cnn_sgmt_fkey</th>\n",
       "            <th>case_id_pkey</th>\n",
       "            <th>tb_latitude</th>\n",
       "            <th>tb_longitude</th>\n",
       "            <th>geocode_source</th>\n",
       "            <th>geocode_location</th>\n",
       "            <th>collision_datetime</th>\n",
       "            <th>collision_date</th>\n",
       "            <th>collision_time</th>\n",
       "            <th>accident_year</th>\n",
       "            <th>month</th>\n",
       "            <th>day_of_week</th>\n",
       "            <th>time_cat</th>\n",
       "            <th>juris</th>\n",
       "            <th>officer_id</th>\n",
       "            <th>reporting_district</th>\n",
       "            <th>beat_number</th>\n",
       "            <th>primary_rd</th>\n",
       "            <th>secondary_rd</th>\n",
       "            <th>distance</th>\n",
       "            <th>direction</th>\n",
       "            <th>weather_1</th>\n",
       "            <th>weather_2</th>\n",
       "            <th>collision_severity</th>\n",
       "            <th>type_of_collision</th>\n",
       "            <th>mviw</th>\n",
       "            <th>ped_action</th>\n",
       "            <th>road_surface</th>\n",
       "            <th>road_cond_1</th>\n",
       "            <th>road_cond_2</th>\n",
       "            <th>lighting</th>\n",
       "            <th>control_device</th>\n",
       "            <th>intersection</th>\n",
       "            <th>vz_pcf_code</th>\n",
       "            <th>vz_pcf_group</th>\n",
       "            <th>vz_pcf_description</th>\n",
       "            <th>vz_pcf_link</th>\n",
       "            <th>number_killed</th>\n",
       "            <th>number_injured</th>\n",
       "            <th>street_view</th>\n",
       "            <th>dph_col_grp</th>\n",
       "            <th>dph_col_grp_description</th>\n",
       "            <th>party_at_fault</th>\n",
       "            <th>party1_type</th>\n",
       "            <th>party1_dir_of_travel</th>\n",
       "            <th>party1_move_pre_acc</th>\n",
       "            <th>party2_type</th>\n",
       "            <th>party2_dir_of_travel</th>\n",
       "            <th>party2_move_pre_acc</th>\n",
       "            <th>point</th>\n",
       "            <th>data_as_of</th>\n",
       "            <th>data_updated_at</th>\n",
       "            <th>data_loaded_at</th>\n",
       "            <th>analysis_neighborhood</th>\n",
       "            <th>supervisor_district</th>\n",
       "            <th>police_district</th>\n",
       "            <th>Current Police Districts</th>\n",
       "            <th>Current Supervisor Districts</th>\n",
       "            <th>Analysis Neighborhoods</th>\n",
       "            <th>Neighborhoods</th>\n",
       "            <th>SF Find Neighborhoods</th>\n",
       "        </tr>\n",
       "    </thead>\n",
       "    <tbody>\n",
       "        <tr>\n",
       "            <td>61456</td>\n",
       "            <td>25723000.0</td>\n",
       "            <td>4013000.0</td>\n",
       "            <td>200376243</td>\n",
       "            <td>37.7629445652</td>\n",
       "            <td>-122.42851403699996</td>\n",
       "            <td>SFPD-INTERIM DB</td>\n",
       "            <td>CITY STREET</td>\n",
       "            <td>06/23/2020 10:31:00 AM</td>\n",
       "            <td>2020 June 23</td>\n",
       "            <td>10:31:00</td>\n",
       "            <td>2020</td>\n",
       "            <td>June</td>\n",
       "            <td>Tuesday</td>\n",
       "            <td>10:01 am to 2:00 pm</td>\n",
       "            <td>3801</td>\n",
       "            <td>1023</td>\n",
       "            <td>Mission</td>\n",
       "            <td>1-Car</td>\n",
       "            <td>CHURCH ST</td>\n",
       "            <td>17TH ST</td>\n",
       "            <td>20.0</td>\n",
       "            <td>North</td>\n",
       "            <td>Clear</td>\n",
       "            <td>Not Stated</td>\n",
       "            <td>Injury (Other Visible)</td>\n",
       "            <td>Overturned</td>\n",
       "            <td>Not Stated</td>\n",
       "            <td>No Pedestrian Involved</td>\n",
       "            <td>Dry</td>\n",
       "            <td>No Unusual Condition</td>\n",
       "            <td>Not Stated</td>\n",
       "            <td>Daylight</td>\n",
       "            <td>Functioning</td>\n",
       "            <td>Intersection &lt;= 20ft</td>\n",
       "            <td>22350</td>\n",
       "            <td>22350</td>\n",
       "            <td>Unsafe speed for prevailing conditions</td>\n",
       "            <td>http://leginfo.legislature.ca.gov/faces/codes_displaySection.xhtml?lawCode=VEH&amp;sectionNum=22350</td>\n",
       "            <td>0.0</td>\n",
       "            <td>1</td>\n",
       "            <td>https://maps.google.com/maps?q=&amp;layer=c&amp;cbll=37.7629445652,-122.42851403699997</td>\n",
       "            <td>FF</td>\n",
       "            <td>Bicycle Only</td>\n",
       "            <td>None</td>\n",
       "            <td>Bicyclist</td>\n",
       "            <td>North</td>\n",
       "            <td>Proceeding Straight</td>\n",
       "            <td>None</td>\n",
       "            <td>None</td>\n",
       "            <td>None</td>\n",
       "            <td>POINT (-122.428514037 37.762944565)</td>\n",
       "            <td>05/03/2023 12:00:00 AM</td>\n",
       "            <td>04/29/2024 12:00:00 AM</td>\n",
       "            <td>07/12/2024 03:08:07 PM</td>\n",
       "            <td>Castro/Upper Market</td>\n",
       "            <td>8.0</td>\n",
       "            <td>MISSION</td>\n",
       "            <td>3.0</td>\n",
       "            <td>5.0</td>\n",
       "            <td>5.0</td>\n",
       "            <td>37.0</td>\n",
       "            <td>37.0</td>\n",
       "        </tr>\n",
       "        <tr>\n",
       "            <td>53071</td>\n",
       "            <td>25723000.0</td>\n",
       "            <td>4013000.0</td>\n",
       "            <td>200376243</td>\n",
       "            <td>37.7629445652</td>\n",
       "            <td>-122.42851403699996</td>\n",
       "            <td>SFPD-INTERIM DB</td>\n",
       "            <td>CITY STREET</td>\n",
       "            <td>06/23/2020 10:31:00 AM</td>\n",
       "            <td>2020 June 23</td>\n",
       "            <td>10:31:00</td>\n",
       "            <td>2020</td>\n",
       "            <td>June</td>\n",
       "            <td>Tuesday</td>\n",
       "            <td>10:01 am to 2:00 pm</td>\n",
       "            <td>3801</td>\n",
       "            <td>1023</td>\n",
       "            <td>Mission</td>\n",
       "            <td>1-Car</td>\n",
       "            <td>CHURCH ST</td>\n",
       "            <td>17TH ST</td>\n",
       "            <td>20.0</td>\n",
       "            <td>North</td>\n",
       "            <td>Clear</td>\n",
       "            <td>Not Stated</td>\n",
       "            <td>Injury (Other Visible)</td>\n",
       "            <td>Overturned</td>\n",
       "            <td>Not Stated</td>\n",
       "            <td>No Pedestrian Involved</td>\n",
       "            <td>Dry</td>\n",
       "            <td>No Unusual Condition</td>\n",
       "            <td>Not Stated</td>\n",
       "            <td>Daylight</td>\n",
       "            <td>Functioning</td>\n",
       "            <td>Intersection &lt;= 20ft</td>\n",
       "            <td>22350</td>\n",
       "            <td>22350</td>\n",
       "            <td>Unsafe speed for prevailing conditions</td>\n",
       "            <td>http://leginfo.legislature.ca.gov/faces/codes_displaySection.xhtml?lawCode=VEH&amp;sectionNum=22350</td>\n",
       "            <td>0.0</td>\n",
       "            <td>1</td>\n",
       "            <td>https://maps.google.com/maps?q=&amp;layer=c&amp;cbll=37.7629445652,-122.428514037</td>\n",
       "            <td>FF</td>\n",
       "            <td>Bicycle Only</td>\n",
       "            <td>None</td>\n",
       "            <td>Bicyclist</td>\n",
       "            <td>North</td>\n",
       "            <td>Proceeding Straight</td>\n",
       "            <td>None</td>\n",
       "            <td>None</td>\n",
       "            <td>None</td>\n",
       "            <td>POINT (-122.428514037 37.762944565)</td>\n",
       "            <td>06/23/2020 12:00:00 AM</td>\n",
       "            <td>04/26/2023 12:00:00 AM</td>\n",
       "            <td>07/12/2024 03:08:07 PM</td>\n",
       "            <td>Castro/Upper Market</td>\n",
       "            <td>8.0</td>\n",
       "            <td>MISSION</td>\n",
       "            <td>3.0</td>\n",
       "            <td>5.0</td>\n",
       "            <td>5.0</td>\n",
       "            <td>37.0</td>\n",
       "            <td>37.0</td>\n",
       "        </tr>\n",
       "    </tbody>\n",
       "</table>"
      ],
      "text/plain": [
       "[(61456, 25723000.0, 4013000.0, '200376243', 37.7629445652, -122.42851403699996, 'SFPD-INTERIM DB', 'CITY STREET', '06/23/2020 10:31:00 AM', '2020 June 23', '10:31:00', 2020, 'June', 'Tuesday', '10:01 am to 2:00 pm', '3801', '1023', 'Mission', '1-Car', 'CHURCH ST', '17TH ST', 20.0, 'North', 'Clear', 'Not Stated', 'Injury (Other Visible)', 'Overturned', 'Not Stated', 'No Pedestrian Involved', 'Dry', 'No Unusual Condition', 'Not Stated', 'Daylight', 'Functioning', 'Intersection <= 20ft', '22350', '22350', 'Unsafe speed for prevailing conditions', 'http://leginfo.legislature.ca.gov/faces/codes_displaySection.xhtml?lawCode=VEH&sectionNum=22350', 0.0, 1, 'https://maps.google.com/maps?q=&layer=c&cbll=37.7629445652,-122.42851403699997', 'FF', 'Bicycle Only', None, 'Bicyclist', 'North', 'Proceeding Straight', None, None, None, 'POINT (-122.428514037 37.762944565)', '05/03/2023 12:00:00 AM', '04/29/2024 12:00:00 AM', '07/12/2024 03:08:07 PM', 'Castro/Upper Market', 8.0, 'MISSION', 3.0, 5.0, 5.0, 37.0, 37.0),\n",
       " (53071, 25723000.0, 4013000.0, '200376243', 37.7629445652, -122.42851403699996, 'SFPD-INTERIM DB', 'CITY STREET', '06/23/2020 10:31:00 AM', '2020 June 23', '10:31:00', 2020, 'June', 'Tuesday', '10:01 am to 2:00 pm', '3801', '1023', 'Mission', '1-Car', 'CHURCH ST', '17TH ST', 20.0, 'North', 'Clear', 'Not Stated', 'Injury (Other Visible)', 'Overturned', 'Not Stated', 'No Pedestrian Involved', 'Dry', 'No Unusual Condition', 'Not Stated', 'Daylight', 'Functioning', 'Intersection <= 20ft', '22350', '22350', 'Unsafe speed for prevailing conditions', 'http://leginfo.legislature.ca.gov/faces/codes_displaySection.xhtml?lawCode=VEH&sectionNum=22350', 0.0, 1, 'https://maps.google.com/maps?q=&layer=c&cbll=37.7629445652,-122.428514037', 'FF', 'Bicycle Only', None, 'Bicyclist', 'North', 'Proceeding Straight', None, None, None, 'POINT (-122.428514037 37.762944565)', '06/23/2020 12:00:00 AM', '04/26/2023 12:00:00 AM', '07/12/2024 03:08:07 PM', 'Castro/Upper Market', 8.0, 'MISSION', 3.0, 5.0, 5.0, 37.0, 37.0)]"
      ]
     },
     "execution_count": 106,
     "metadata": {},
     "output_type": "execute_result"
    }
   ],
   "source": [
    "%%sql\n",
    "\n",
    "SELECT * \n",
    "FROM \n",
    "    traffic_crash_all\n",
    "WHERE \n",
    "    case_id_pkey = 200376243"
   ]
  },
  {
   "cell_type": "markdown",
   "metadata": {},
   "source": [
    "ISSUE #2: accident_year in traffic_crash_all is inaccurate (unless someone predicted the future). We are in 2024, and there are incidents in 2025 and 2026"
   ]
  },
  {
   "cell_type": "code",
   "execution_count": 109,
   "metadata": {},
   "outputs": [
    {
     "name": "stdout",
     "output_type": "stream",
     "text": [
      "   sqlite://\n",
      " * sqlite:///traffic_crash.db\n",
      "Done.\n"
     ]
    },
    {
     "data": {
      "text/html": [
       "<table>\n",
       "    <thead>\n",
       "        <tr>\n",
       "            <th>accident_year</th>\n",
       "            <th>n_incidents</th>\n",
       "        </tr>\n",
       "    </thead>\n",
       "    <tbody>\n",
       "        <tr>\n",
       "            <td>2025</td>\n",
       "            <td>1</td>\n",
       "        </tr>\n",
       "        <tr>\n",
       "            <td>2026</td>\n",
       "            <td>1</td>\n",
       "        </tr>\n",
       "    </tbody>\n",
       "</table>"
      ],
      "text/plain": [
       "[(2025, 1), (2026, 1)]"
      ]
     },
     "execution_count": 109,
     "metadata": {},
     "output_type": "execute_result"
    }
   ],
   "source": [
    "%%sql\n",
    "\n",
    "SELECT \n",
    "    accident_year, \n",
    "    COUNT(*) as n_incidents \n",
    "FROM \n",
    "    traffic_crash_all\n",
    "GROUP BY \n",
    "    accident_year\n",
    "HAVING \n",
    "    accident_year > 2024\n"
   ]
  },
  {
   "cell_type": "markdown",
   "metadata": {},
   "source": [
    "SOLUTION: Create a view of traffic_crash_all where we remove the extra entry for case_id_pkey 200376243, remove accident_year, and create a new column for the year. "
   ]
  },
  {
   "cell_type": "code",
   "execution_count": 143,
   "metadata": {},
   "outputs": [
    {
     "name": "stdout",
     "output_type": "stream",
     "text": [
      "   sqlite://\n",
      " * sqlite:///traffic_crash.db\n",
      "Done.\n",
      "Done.\n"
     ]
    },
    {
     "data": {
      "text/plain": [
       "[]"
      ]
     },
     "execution_count": 143,
     "metadata": {},
     "output_type": "execute_result"
    }
   ],
   "source": [
    "%%sql\n",
    "\n",
    "DROP VIEW IF EXISTS view_traffic_crash_all;\n",
    "\n",
    "CREATE VIEW view_traffic_crash_all AS\n",
    "SELECT\n",
    "    unique_id,\n",
    "    case_id_pkey,\n",
    "    SUBSTR(collision_date, 1, 4) AS incident_year,\n",
    "    collision_date,\n",
    "    collision_time,\n",
    "    type_of_collision,\n",
    "    number_killed,\n",
    "    number_injured,\n",
    "    dph_col_grp_description,\n",
    "    primary_rd,\n",
    "    secondary_rd,\n",
    "    road_surface,\n",
    "    lighting,\n",
    "    analysis_neighborhood\n",
    "FROM \n",
    "    traffic_crash_all\n",
    "WHERE \n",
    "    unique_id != 61456;\n"
   ]
  },
  {
   "cell_type": "markdown",
   "metadata": {},
   "source": [
    "# 3. Data Exploration"
   ]
  },
  {
   "cell_type": "markdown",
   "metadata": {},
   "source": [
    "QUESTION 1: For each year, output the total number of car incidents, number killed and number injuries.\n"
   ]
  },
  {
   "cell_type": "code",
   "execution_count": 115,
   "metadata": {},
   "outputs": [
    {
     "name": "stdout",
     "output_type": "stream",
     "text": [
      "   sqlite://\n",
      " * sqlite:///traffic_crash.db\n",
      "Done.\n"
     ]
    },
    {
     "data": {
      "text/html": [
       "<table>\n",
       "    <thead>\n",
       "        <tr>\n",
       "            <th>incidents_per_year</th>\n",
       "            <th>number_killed_per_year</th>\n",
       "            <th>number_injured_per_year</th>\n",
       "        </tr>\n",
       "    </thead>\n",
       "    <tbody>\n",
       "        <tr>\n",
       "            <td>3257</td>\n",
       "            <td>27.0</td>\n",
       "            <td>4437</td>\n",
       "        </tr>\n",
       "        <tr>\n",
       "            <td>2896</td>\n",
       "            <td>30.0</td>\n",
       "            <td>3806</td>\n",
       "        </tr>\n",
       "        <tr>\n",
       "            <td>3065</td>\n",
       "            <td>42.0</td>\n",
       "            <td>3957</td>\n",
       "        </tr>\n",
       "        <tr>\n",
       "            <td>3039</td>\n",
       "            <td>27.0</td>\n",
       "            <td>3864</td>\n",
       "        </tr>\n",
       "        <tr>\n",
       "            <td>2900</td>\n",
       "            <td>31.0</td>\n",
       "            <td>3702</td>\n",
       "        </tr>\n",
       "        <tr>\n",
       "            <td>3095</td>\n",
       "            <td>22.0</td>\n",
       "            <td>3942</td>\n",
       "        </tr>\n",
       "        <tr>\n",
       "            <td>3097</td>\n",
       "            <td>28.0</td>\n",
       "            <td>3842</td>\n",
       "        </tr>\n",
       "        <tr>\n",
       "            <td>3270</td>\n",
       "            <td>29.0</td>\n",
       "            <td>4018</td>\n",
       "        </tr>\n",
       "        <tr>\n",
       "            <td>3071</td>\n",
       "            <td>35.0</td>\n",
       "            <td>3854</td>\n",
       "        </tr>\n",
       "        <tr>\n",
       "            <td>2967</td>\n",
       "            <td>31.0</td>\n",
       "            <td>3675</td>\n",
       "        </tr>\n",
       "        <tr>\n",
       "            <td>3057</td>\n",
       "            <td>31.0</td>\n",
       "            <td>3784</td>\n",
       "        </tr>\n",
       "        <tr>\n",
       "            <td>3328</td>\n",
       "            <td>28.0</td>\n",
       "            <td>4163</td>\n",
       "        </tr>\n",
       "        <tr>\n",
       "            <td>3430</td>\n",
       "            <td>20.0</td>\n",
       "            <td>4256</td>\n",
       "        </tr>\n",
       "        <tr>\n",
       "            <td>3307</td>\n",
       "            <td>24.0</td>\n",
       "            <td>4125</td>\n",
       "        </tr>\n",
       "        <tr>\n",
       "            <td>3485</td>\n",
       "            <td>31.0</td>\n",
       "            <td>4236</td>\n",
       "        </tr>\n",
       "        <tr>\n",
       "            <td>2453</td>\n",
       "            <td>30.0</td>\n",
       "            <td>2965</td>\n",
       "        </tr>\n",
       "        <tr>\n",
       "            <td>2758</td>\n",
       "            <td>26.0</td>\n",
       "            <td>3457</td>\n",
       "        </tr>\n",
       "        <tr>\n",
       "            <td>2882</td>\n",
       "            <td>39.0</td>\n",
       "            <td>3595</td>\n",
       "        </tr>\n",
       "        <tr>\n",
       "            <td>2927</td>\n",
       "            <td>28.0</td>\n",
       "            <td>3559</td>\n",
       "        </tr>\n",
       "        <tr>\n",
       "            <td>1197</td>\n",
       "            <td>12.0</td>\n",
       "            <td>1407</td>\n",
       "        </tr>\n",
       "    </tbody>\n",
       "</table>"
      ],
      "text/plain": [
       "[(3257, 27.0, 4437),\n",
       " (2896, 30.0, 3806),\n",
       " (3065, 42.0, 3957),\n",
       " (3039, 27.0, 3864),\n",
       " (2900, 31.0, 3702),\n",
       " (3095, 22.0, 3942),\n",
       " (3097, 28.0, 3842),\n",
       " (3270, 29.0, 4018),\n",
       " (3071, 35.0, 3854),\n",
       " (2967, 31.0, 3675),\n",
       " (3057, 31.0, 3784),\n",
       " (3328, 28.0, 4163),\n",
       " (3430, 20.0, 4256),\n",
       " (3307, 24.0, 4125),\n",
       " (3485, 31.0, 4236),\n",
       " (2453, 30.0, 2965),\n",
       " (2758, 26.0, 3457),\n",
       " (2882, 39.0, 3595),\n",
       " (2927, 28.0, 3559),\n",
       " (1197, 12.0, 1407)]"
      ]
     },
     "execution_count": 115,
     "metadata": {},
     "output_type": "execute_result"
    }
   ],
   "source": [
    "%%sql\n",
    "\n",
    "SELECT\n",
    "    COUNT(*) AS incidents_per_year, \n",
    "    SUM(number_killed) AS number_killed_per_year,   \n",
    "    SUM(number_injured) AS number_injured_per_year  \n",
    "FROM \n",
    "    view_traffic_crash_all  \n",
    "GROUP BY \n",
    "    incident_year;"
   ]
  },
  {
   "cell_type": "markdown",
   "metadata": {},
   "source": [
    "QUESTION #2: What is the average number of incidents? Exclude incidents in 2024 to a more accurate calcuation."
   ]
  },
  {
   "cell_type": "code",
   "execution_count": 116,
   "metadata": {},
   "outputs": [
    {
     "name": "stdout",
     "output_type": "stream",
     "text": [
      "   sqlite://\n",
      " * sqlite:///traffic_crash.db\n",
      "Done.\n"
     ]
    },
    {
     "data": {
      "text/html": [
       "<table>\n",
       "    <thead>\n",
       "        <tr>\n",
       "            <th>avg_n_incidents</th>\n",
       "        </tr>\n",
       "    </thead>\n",
       "    <tbody>\n",
       "        <tr>\n",
       "            <td>2974.0</td>\n",
       "        </tr>\n",
       "    </tbody>\n",
       "</table>"
      ],
      "text/plain": [
       "[(2974.0,)]"
      ]
     },
     "execution_count": 116,
     "metadata": {},
     "output_type": "execute_result"
    }
   ],
   "source": [
    "%%sql\n",
    "\n",
    "SELECT \n",
    "    ROUND(AVG(incidents_per_year)) AS avg_n_incidents\n",
    "FROM(\n",
    "    SELECT SUBSTR(collision_date, 1, 4) AS incident_year, COUNT(*) AS incidents_per_year\n",
    "    FROM view_traffic_crash_all  \n",
    "    GROUP BY incident_year);"
   ]
  },
  {
   "cell_type": "markdown",
   "metadata": {},
   "source": [
    "QUESTION #3: Calculate the fraction of incidents for each unique crash grouping."
   ]
  },
  {
   "cell_type": "code",
   "execution_count": 117,
   "metadata": {},
   "outputs": [
    {
     "name": "stdout",
     "output_type": "stream",
     "text": [
      "   sqlite://\n",
      " * sqlite:///traffic_crash.db\n",
      "Done.\n"
     ]
    },
    {
     "data": {
      "text/html": [
       "<table>\n",
       "    <thead>\n",
       "        <tr>\n",
       "            <th>crash_description</th>\n",
       "            <th>incidents_fraction</th>\n",
       "        </tr>\n",
       "    </thead>\n",
       "    <tbody>\n",
       "        <tr>\n",
       "            <td>Vehicle(s) Only Involved</td>\n",
       "            <td>0.589</td>\n",
       "        </tr>\n",
       "        <tr>\n",
       "            <td>Vehicle-Pedestrian</td>\n",
       "            <td>0.243</td>\n",
       "        </tr>\n",
       "        <tr>\n",
       "            <td>Vehicle-Bicycle</td>\n",
       "            <td>0.135</td>\n",
       "        </tr>\n",
       "        <tr>\n",
       "            <td>Bicycle Only</td>\n",
       "            <td>0.018</td>\n",
       "        </tr>\n",
       "        <tr>\n",
       "            <td>Bicycle-Pedestrian</td>\n",
       "            <td>0.008</td>\n",
       "        </tr>\n",
       "        <tr>\n",
       "            <td>Bicycle-Parked Car</td>\n",
       "            <td>0.007</td>\n",
       "        </tr>\n",
       "        <tr>\n",
       "            <td>Pedestrian Only or Pedestrian-Parked Car</td>\n",
       "            <td>0.001</td>\n",
       "        </tr>\n",
       "        <tr>\n",
       "            <td>None</td>\n",
       "            <td>0.0</td>\n",
       "        </tr>\n",
       "        <tr>\n",
       "            <td>Bicycle-Unknown/Not Stated</td>\n",
       "            <td>0.0</td>\n",
       "        </tr>\n",
       "        <tr>\n",
       "            <td>Unknown/Not Stated</td>\n",
       "            <td>0.0</td>\n",
       "        </tr>\n",
       "        <tr>\n",
       "            <td>Vehicle-Bicycle-Pedestrian</td>\n",
       "            <td>0.0</td>\n",
       "        </tr>\n",
       "    </tbody>\n",
       "</table>"
      ],
      "text/plain": [
       "[('Vehicle(s) Only Involved', 0.589),\n",
       " ('Vehicle-Pedestrian', 0.243),\n",
       " ('Vehicle-Bicycle', 0.135),\n",
       " ('Bicycle Only', 0.018),\n",
       " ('Bicycle-Pedestrian', 0.008),\n",
       " ('Bicycle-Parked Car', 0.007),\n",
       " ('Pedestrian Only or Pedestrian-Parked Car', 0.001),\n",
       " (None, 0.0),\n",
       " ('Bicycle-Unknown/Not Stated', 0.0),\n",
       " ('Unknown/Not Stated', 0.0),\n",
       " ('Vehicle-Bicycle-Pedestrian', 0.0)]"
      ]
     },
     "execution_count": 117,
     "metadata": {},
     "output_type": "execute_result"
    }
   ],
   "source": [
    "%%sql\n",
    "\n",
    "WITH calculate_n_incidents AS (\n",
    "    SELECT COUNT(*) AS total_n_incidents\n",
    "    FROM view_traffic_crash_all\n",
    "),\n",
    "crash_grouping AS (\n",
    "    SELECT dph_col_grp_description AS crash_description, COUNT(*) AS n_incidents_per_group\n",
    "    FROM view_traffic_crash_all\n",
    "    GROUP BY dph_col_grp_description\n",
    ")\n",
    "SELECT \n",
    "    g.crash_description, \n",
    "    ROUND((g.n_incidents_per_group * 1.0)/c.total_n_incidents, 3) AS incidents_fraction\n",
    "FROM   \n",
    "    crash_grouping AS g, calculate_n_incidents AS c\n",
    "ORDER BY \n",
    "    incidents_fraction DESC;\n"
   ]
  },
  {
   "cell_type": "markdown",
   "metadata": {},
   "source": [
    "QUESTION 4: What are the top ten streets (primary_rd) with the highest number of incidents?"
   ]
  },
  {
   "cell_type": "code",
   "execution_count": 118,
   "metadata": {},
   "outputs": [
    {
     "name": "stdout",
     "output_type": "stream",
     "text": [
      "   sqlite://\n",
      " * sqlite:///traffic_crash.db\n",
      "Done.\n"
     ]
    },
    {
     "data": {
      "text/html": [
       "<table>\n",
       "    <thead>\n",
       "        <tr>\n",
       "            <th>primary_rd</th>\n",
       "            <th>n_incidents</th>\n",
       "        </tr>\n",
       "    </thead>\n",
       "    <tbody>\n",
       "        <tr>\n",
       "            <td>MISSION ST</td>\n",
       "            <td>2560</td>\n",
       "        </tr>\n",
       "        <tr>\n",
       "            <td>MARKET ST</td>\n",
       "            <td>2129</td>\n",
       "        </tr>\n",
       "        <tr>\n",
       "            <td>VAN NESS AVE</td>\n",
       "            <td>1452</td>\n",
       "        </tr>\n",
       "        <tr>\n",
       "            <td>GEARY BLVD</td>\n",
       "            <td>1156</td>\n",
       "        </tr>\n",
       "        <tr>\n",
       "            <td>03RD ST</td>\n",
       "            <td>1099</td>\n",
       "        </tr>\n",
       "        <tr>\n",
       "            <td>19TH AVE</td>\n",
       "            <td>880</td>\n",
       "        </tr>\n",
       "        <tr>\n",
       "            <td>FULTON ST</td>\n",
       "            <td>861</td>\n",
       "        </tr>\n",
       "        <tr>\n",
       "            <td>ALEMANY BLVD</td>\n",
       "            <td>861</td>\n",
       "        </tr>\n",
       "        <tr>\n",
       "            <td>CALIFORNIA ST</td>\n",
       "            <td>834</td>\n",
       "        </tr>\n",
       "        <tr>\n",
       "            <td>FOLSOM ST</td>\n",
       "            <td>810</td>\n",
       "        </tr>\n",
       "    </tbody>\n",
       "</table>"
      ],
      "text/plain": [
       "[('MISSION ST', 2560),\n",
       " ('MARKET ST', 2129),\n",
       " ('VAN NESS AVE', 1452),\n",
       " ('GEARY BLVD', 1156),\n",
       " ('03RD ST', 1099),\n",
       " ('19TH AVE', 880),\n",
       " ('FULTON ST', 861),\n",
       " ('ALEMANY BLVD', 861),\n",
       " ('CALIFORNIA ST', 834),\n",
       " ('FOLSOM ST', 810)]"
      ]
     },
     "execution_count": 118,
     "metadata": {},
     "output_type": "execute_result"
    }
   ],
   "source": [
    "%%sql  \n",
    "\n",
    "SELECT \n",
    "    primary_rd, \n",
    "    COUNT (*) AS n_incidents    \n",
    "FROM \n",
    "    view_traffic_crash_all  \n",
    "GROUP BY \n",
    "    primary_rd \n",
    "ORDER BY \n",
    "    n_incidents DESC   \n",
    "LIMIT 10;"
   ]
  },
  {
   "cell_type": "markdown",
   "metadata": {},
   "source": [
    "QUESTION #5: Given that streets can span long distances and the primary_rd may not precisely locate incidents, \n",
    "            we use the secondary_rd for better accuracy. What are the top ten streets (primary_rd and secondary_rd) \n",
    "            with the highest number of incidents? The secondary_rd serves as a reference road from which distance and direct are measured."
   ]
  },
  {
   "cell_type": "code",
   "execution_count": 119,
   "metadata": {},
   "outputs": [
    {
     "name": "stdout",
     "output_type": "stream",
     "text": [
      "   sqlite://\n",
      " * sqlite:///traffic_crash.db\n",
      "Done.\n"
     ]
    },
    {
     "data": {
      "text/html": [
       "<table>\n",
       "    <thead>\n",
       "        <tr>\n",
       "            <th>primary_rd</th>\n",
       "            <th>secondary_rd</th>\n",
       "            <th>n_incidents</th>\n",
       "        </tr>\n",
       "    </thead>\n",
       "    <tbody>\n",
       "        <tr>\n",
       "            <td>MARKET ST</td>\n",
       "            <td>05TH ST</td>\n",
       "            <td>129</td>\n",
       "        </tr>\n",
       "        <tr>\n",
       "            <td>MARKET ST</td>\n",
       "            <td>OCTAVIA ST</td>\n",
       "            <td>116</td>\n",
       "        </tr>\n",
       "        <tr>\n",
       "            <td>MARKET ST</td>\n",
       "            <td>07TH ST</td>\n",
       "            <td>101</td>\n",
       "        </tr>\n",
       "        <tr>\n",
       "            <td>MARKET ST</td>\n",
       "            <td>GOUGH ST</td>\n",
       "            <td>99</td>\n",
       "        </tr>\n",
       "        <tr>\n",
       "            <td>JUNIPERO SERRA BLVD</td>\n",
       "            <td>19TH AVE</td>\n",
       "            <td>94</td>\n",
       "        </tr>\n",
       "        <tr>\n",
       "            <td>VAN NESS AVE</td>\n",
       "            <td>HAYES ST</td>\n",
       "            <td>93</td>\n",
       "        </tr>\n",
       "        <tr>\n",
       "            <td>THE EMBARCADERO</td>\n",
       "            <td>WASHINGTON ST</td>\n",
       "            <td>92</td>\n",
       "        </tr>\n",
       "        <tr>\n",
       "            <td>16TH ST</td>\n",
       "            <td>POTRERO AVE</td>\n",
       "            <td>80</td>\n",
       "        </tr>\n",
       "        <tr>\n",
       "            <td>UNABLE TO GEOCODE</td>\n",
       "            <td>None</td>\n",
       "            <td>78</td>\n",
       "        </tr>\n",
       "        <tr>\n",
       "            <td>MARKET ST</td>\n",
       "            <td>08TH ST</td>\n",
       "            <td>77</td>\n",
       "        </tr>\n",
       "    </tbody>\n",
       "</table>"
      ],
      "text/plain": [
       "[('MARKET ST', '05TH ST', 129),\n",
       " ('MARKET ST', 'OCTAVIA ST', 116),\n",
       " ('MARKET ST', '07TH ST', 101),\n",
       " ('MARKET ST', 'GOUGH ST', 99),\n",
       " ('JUNIPERO SERRA BLVD', '19TH AVE', 94),\n",
       " ('VAN NESS AVE', 'HAYES ST', 93),\n",
       " ('THE EMBARCADERO', 'WASHINGTON ST', 92),\n",
       " ('16TH ST', 'POTRERO AVE', 80),\n",
       " ('UNABLE TO GEOCODE', None, 78),\n",
       " ('MARKET ST', '08TH ST', 77)]"
      ]
     },
     "execution_count": 119,
     "metadata": {},
     "output_type": "execute_result"
    }
   ],
   "source": [
    "%%sql\n",
    "\n",
    "SELECT \n",
    "    primary_rd, \n",
    "    secondary_rd,   \n",
    "    COUNT (*) AS n_incidents    \n",
    "FROM \n",
    "    view_traffic_crash_all  \n",
    "GROUP BY    \n",
    "    primary_rd, \n",
    "    secondary_rd    \n",
    "ORDER BY \n",
    "    n_incidents DESC   \n",
    "LIMIT 10;\n"
   ]
  },
  {
   "cell_type": "markdown",
   "metadata": {},
   "source": [
    "QUESTION #6: Which road surface condition (e.g. wet, dry) has the highest number of incidents?"
   ]
  },
  {
   "cell_type": "code",
   "execution_count": 120,
   "metadata": {},
   "outputs": [
    {
     "name": "stdout",
     "output_type": "stream",
     "text": [
      "   sqlite://\n",
      " * sqlite:///traffic_crash.db\n",
      "Done.\n"
     ]
    },
    {
     "data": {
      "text/html": [
       "<table>\n",
       "    <thead>\n",
       "        <tr>\n",
       "            <th>road_surface</th>\n",
       "            <th>max_n_incidents</th>\n",
       "        </tr>\n",
       "    </thead>\n",
       "    <tbody>\n",
       "        <tr>\n",
       "            <td>Dry</td>\n",
       "            <td>52222</td>\n",
       "        </tr>\n",
       "    </tbody>\n",
       "</table>"
      ],
      "text/plain": [
       "[('Dry', 52222)]"
      ]
     },
     "execution_count": 120,
     "metadata": {},
     "output_type": "execute_result"
    }
   ],
   "source": [
    "%%sql\n",
    "\n",
    "WITH road_surface_cte AS (\n",
    "    SELECT \n",
    "        road_surface,\n",
    "        COUNT(*) AS n_incidents\n",
    "    FROM \n",
    "        view_traffic_crash_all  \n",
    "    GROUP BY \n",
    "        road_surface\n",
    ")\n",
    "SELECT \n",
    "    road_surface,\n",
    "    MAX(n_incidents) AS max_n_incidents \n",
    "FROM \n",
    "    road_surface_cte\n",
    "ORDER BY \n",
    "    n_incidents DESC;\n",
    "\n"
   ]
  },
  {
   "cell_type": "markdown",
   "metadata": {},
   "source": [
    "QUESTION #7: Determine the number of incidents for each hour of the day."
   ]
  },
  {
   "cell_type": "code",
   "execution_count": 121,
   "metadata": {},
   "outputs": [
    {
     "name": "stdout",
     "output_type": "stream",
     "text": [
      "   sqlite://\n",
      " * sqlite:///traffic_crash.db\n",
      "Done.\n"
     ]
    },
    {
     "data": {
      "text/html": [
       "<table>\n",
       "    <thead>\n",
       "        <tr>\n",
       "            <th>hour</th>\n",
       "            <th>n_incidents</th>\n",
       "        </tr>\n",
       "    </thead>\n",
       "    <tbody>\n",
       "        <tr>\n",
       "            <td>None</td>\n",
       "            <td>59</td>\n",
       "        </tr>\n",
       "        <tr>\n",
       "            <td>00</td>\n",
       "            <td>1265</td>\n",
       "        </tr>\n",
       "        <tr>\n",
       "            <td>01</td>\n",
       "            <td>1186</td>\n",
       "        </tr>\n",
       "        <tr>\n",
       "            <td>02</td>\n",
       "            <td>1219</td>\n",
       "        </tr>\n",
       "        <tr>\n",
       "            <td>03</td>\n",
       "            <td>583</td>\n",
       "        </tr>\n",
       "        <tr>\n",
       "            <td>04</td>\n",
       "            <td>428</td>\n",
       "        </tr>\n",
       "        <tr>\n",
       "            <td>05</td>\n",
       "            <td>587</td>\n",
       "        </tr>\n",
       "        <tr>\n",
       "            <td>06</td>\n",
       "            <td>1183</td>\n",
       "        </tr>\n",
       "        <tr>\n",
       "            <td>07</td>\n",
       "            <td>2237</td>\n",
       "        </tr>\n",
       "        <tr>\n",
       "            <td>08</td>\n",
       "            <td>3321</td>\n",
       "        </tr>\n",
       "        <tr>\n",
       "            <td>09</td>\n",
       "            <td>3154</td>\n",
       "        </tr>\n",
       "        <tr>\n",
       "            <td>10</td>\n",
       "            <td>2716</td>\n",
       "        </tr>\n",
       "        <tr>\n",
       "            <td>11</td>\n",
       "            <td>2949</td>\n",
       "        </tr>\n",
       "        <tr>\n",
       "            <td>12</td>\n",
       "            <td>3132</td>\n",
       "        </tr>\n",
       "        <tr>\n",
       "            <td>13</td>\n",
       "            <td>3331</td>\n",
       "        </tr>\n",
       "        <tr>\n",
       "            <td>14</td>\n",
       "            <td>3548</td>\n",
       "        </tr>\n",
       "        <tr>\n",
       "            <td>15</td>\n",
       "            <td>3836</td>\n",
       "        </tr>\n",
       "        <tr>\n",
       "            <td>16</td>\n",
       "            <td>4044</td>\n",
       "        </tr>\n",
       "        <tr>\n",
       "            <td>17</td>\n",
       "            <td>4429</td>\n",
       "        </tr>\n",
       "        <tr>\n",
       "            <td>18</td>\n",
       "            <td>4250</td>\n",
       "        </tr>\n",
       "        <tr>\n",
       "            <td>19</td>\n",
       "            <td>3097</td>\n",
       "        </tr>\n",
       "        <tr>\n",
       "            <td>20</td>\n",
       "            <td>2560</td>\n",
       "        </tr>\n",
       "        <tr>\n",
       "            <td>21</td>\n",
       "            <td>2400</td>\n",
       "        </tr>\n",
       "        <tr>\n",
       "            <td>22</td>\n",
       "            <td>2193</td>\n",
       "        </tr>\n",
       "        <tr>\n",
       "            <td>23</td>\n",
       "            <td>1774</td>\n",
       "        </tr>\n",
       "    </tbody>\n",
       "</table>"
      ],
      "text/plain": [
       "[(None, 59),\n",
       " ('00', 1265),\n",
       " ('01', 1186),\n",
       " ('02', 1219),\n",
       " ('03', 583),\n",
       " ('04', 428),\n",
       " ('05', 587),\n",
       " ('06', 1183),\n",
       " ('07', 2237),\n",
       " ('08', 3321),\n",
       " ('09', 3154),\n",
       " ('10', 2716),\n",
       " ('11', 2949),\n",
       " ('12', 3132),\n",
       " ('13', 3331),\n",
       " ('14', 3548),\n",
       " ('15', 3836),\n",
       " ('16', 4044),\n",
       " ('17', 4429),\n",
       " ('18', 4250),\n",
       " ('19', 3097),\n",
       " ('20', 2560),\n",
       " ('21', 2400),\n",
       " ('22', 2193),\n",
       " ('23', 1774)]"
      ]
     },
     "execution_count": 121,
     "metadata": {},
     "output_type": "execute_result"
    }
   ],
   "source": [
    "%%sql\n",
    "\n",
    "SELECT \n",
    "    strftime('%H', collision_time ) AS hour,\n",
    "    COUNT(*) AS n_incidents\n",
    "FROM \n",
    "    view_traffic_crash_all\n",
    "GROUP BY \n",
    "    hour\n",
    "ORDER BY \n",
    "    hour;\n"
   ]
  },
  {
   "cell_type": "markdown",
   "metadata": {},
   "source": [
    "QUESTION #8: Which lighting condition has the most incidents?"
   ]
  },
  {
   "cell_type": "code",
   "execution_count": 122,
   "metadata": {},
   "outputs": [
    {
     "name": "stdout",
     "output_type": "stream",
     "text": [
      "   sqlite://\n",
      " * sqlite:///traffic_crash.db\n",
      "Done.\n"
     ]
    },
    {
     "data": {
      "text/html": [
       "<table>\n",
       "    <thead>\n",
       "        <tr>\n",
       "            <th>lighting</th>\n",
       "            <th>n_incidents</th>\n",
       "        </tr>\n",
       "    </thead>\n",
       "    <tbody>\n",
       "        <tr>\n",
       "            <td>Daylight</td>\n",
       "            <td>38400</td>\n",
       "        </tr>\n",
       "        <tr>\n",
       "            <td>Dark - Street Lights</td>\n",
       "            <td>17871</td>\n",
       "        </tr>\n",
       "        <tr>\n",
       "            <td>Dusk - Dawn</td>\n",
       "            <td>2076</td>\n",
       "        </tr>\n",
       "        <tr>\n",
       "            <td>Not Stated</td>\n",
       "            <td>593</td>\n",
       "        </tr>\n",
       "        <tr>\n",
       "            <td>Dark - No Street Lights</td>\n",
       "            <td>434</td>\n",
       "        </tr>\n",
       "        <tr>\n",
       "            <td>Dark - Street Lights Not Functioning</td>\n",
       "            <td>107</td>\n",
       "        </tr>\n",
       "    </tbody>\n",
       "</table>"
      ],
      "text/plain": [
       "[('Daylight', 38400),\n",
       " ('Dark - Street Lights', 17871),\n",
       " ('Dusk - Dawn', 2076),\n",
       " ('Not Stated', 593),\n",
       " ('Dark - No Street Lights', 434),\n",
       " ('Dark - Street Lights Not Functioning', 107)]"
      ]
     },
     "execution_count": 122,
     "metadata": {},
     "output_type": "execute_result"
    }
   ],
   "source": [
    "%%sql\n",
    "\n",
    "SELECT\n",
    "    lighting,\n",
    "    COUNT(*) as n_incidents\n",
    "FROM \n",
    "    view_traffic_crash_all\n",
    "GROUP BY\n",
    "    lighting\n",
    "ORDER BY\n",
    "    n_incidents DESC;\n"
   ]
  },
  {
   "cell_type": "markdown",
   "metadata": {},
   "source": [
    "QUESTION #9: What is the average number of people who are injured?"
   ]
  },
  {
   "cell_type": "code",
   "execution_count": 123,
   "metadata": {},
   "outputs": [
    {
     "name": "stdout",
     "output_type": "stream",
     "text": [
      "   sqlite://\n",
      " * sqlite:///traffic_crash.db\n",
      "Done.\n"
     ]
    },
    {
     "data": {
      "text/html": [
       "<table>\n",
       "    <thead>\n",
       "        <tr>\n",
       "            <th>avg_n_injured</th>\n",
       "        </tr>\n",
       "    </thead>\n",
       "    <tbody>\n",
       "        <tr>\n",
       "            <td>1.0</td>\n",
       "        </tr>\n",
       "    </tbody>\n",
       "</table>"
      ],
      "text/plain": [
       "[(1.0,)]"
      ]
     },
     "execution_count": 123,
     "metadata": {},
     "output_type": "execute_result"
    }
   ],
   "source": [
    "%%sql\n",
    "\n",
    "SELECT\n",
    "    ROUND(AVG(number_injured), 0) AS avg_n_injured\n",
    "FROM \n",
    "    view_traffic_crash_all\n"
   ]
  },
  {
   "cell_type": "markdown",
   "metadata": {},
   "source": [
    "QUESTION #10: Show the incidents where number_injured >1 and number_killed is >0."
   ]
  },
  {
   "cell_type": "code",
   "execution_count": 124,
   "metadata": {},
   "outputs": [
    {
     "name": "stdout",
     "output_type": "stream",
     "text": [
      "   sqlite://\n",
      " * sqlite:///traffic_crash.db\n",
      "Done.\n"
     ]
    },
    {
     "data": {
      "text/html": [
       "<table>\n",
       "    <thead>\n",
       "        <tr>\n",
       "            <th>unique_id</th>\n",
       "            <th>number_injured</th>\n",
       "            <th>number_killed</th>\n",
       "        </tr>\n",
       "    </thead>\n",
       "    <tbody>\n",
       "        <tr>\n",
       "            <td>29161</td>\n",
       "            <td>2</td>\n",
       "            <td>1.0</td>\n",
       "        </tr>\n",
       "        <tr>\n",
       "            <td>538</td>\n",
       "            <td>2</td>\n",
       "            <td>1.0</td>\n",
       "        </tr>\n",
       "        <tr>\n",
       "            <td>47803</td>\n",
       "            <td>4</td>\n",
       "            <td>1.0</td>\n",
       "        </tr>\n",
       "        <tr>\n",
       "            <td>36650</td>\n",
       "            <td>7</td>\n",
       "            <td>1.0</td>\n",
       "        </tr>\n",
       "        <tr>\n",
       "            <td>19505</td>\n",
       "            <td>2</td>\n",
       "            <td>2.0</td>\n",
       "        </tr>\n",
       "        <tr>\n",
       "            <td>59872</td>\n",
       "            <td>3</td>\n",
       "            <td>1.0</td>\n",
       "        </tr>\n",
       "        <tr>\n",
       "            <td>41182</td>\n",
       "            <td>2</td>\n",
       "            <td>1.0</td>\n",
       "        </tr>\n",
       "        <tr>\n",
       "            <td>9456</td>\n",
       "            <td>2</td>\n",
       "            <td>1.0</td>\n",
       "        </tr>\n",
       "        <tr>\n",
       "            <td>299</td>\n",
       "            <td>3</td>\n",
       "            <td>1.0</td>\n",
       "        </tr>\n",
       "        <tr>\n",
       "            <td>10262</td>\n",
       "            <td>2</td>\n",
       "            <td>1.0</td>\n",
       "        </tr>\n",
       "        <tr>\n",
       "            <td>11312</td>\n",
       "            <td>3</td>\n",
       "            <td>1.0</td>\n",
       "        </tr>\n",
       "        <tr>\n",
       "            <td>34103</td>\n",
       "            <td>3</td>\n",
       "            <td>1.0</td>\n",
       "        </tr>\n",
       "        <tr>\n",
       "            <td>26078</td>\n",
       "            <td>2</td>\n",
       "            <td>1.0</td>\n",
       "        </tr>\n",
       "        <tr>\n",
       "            <td>21801</td>\n",
       "            <td>3</td>\n",
       "            <td>1.0</td>\n",
       "        </tr>\n",
       "        <tr>\n",
       "            <td>37954</td>\n",
       "            <td>3</td>\n",
       "            <td>2.0</td>\n",
       "        </tr>\n",
       "        <tr>\n",
       "            <td>3938</td>\n",
       "            <td>4</td>\n",
       "            <td>1.0</td>\n",
       "        </tr>\n",
       "        <tr>\n",
       "            <td>5931</td>\n",
       "            <td>3</td>\n",
       "            <td>1.0</td>\n",
       "        </tr>\n",
       "        <tr>\n",
       "            <td>28668</td>\n",
       "            <td>2</td>\n",
       "            <td>1.0</td>\n",
       "        </tr>\n",
       "        <tr>\n",
       "            <td>35406</td>\n",
       "            <td>4</td>\n",
       "            <td>1.0</td>\n",
       "        </tr>\n",
       "        <tr>\n",
       "            <td>56936</td>\n",
       "            <td>2</td>\n",
       "            <td>1.0</td>\n",
       "        </tr>\n",
       "        <tr>\n",
       "            <td>23295</td>\n",
       "            <td>2</td>\n",
       "            <td>1.0</td>\n",
       "        </tr>\n",
       "        <tr>\n",
       "            <td>39504</td>\n",
       "            <td>2</td>\n",
       "            <td>1.0</td>\n",
       "        </tr>\n",
       "        <tr>\n",
       "            <td>47568</td>\n",
       "            <td>2</td>\n",
       "            <td>1.0</td>\n",
       "        </tr>\n",
       "        <tr>\n",
       "            <td>47610</td>\n",
       "            <td>2</td>\n",
       "            <td>2.0</td>\n",
       "        </tr>\n",
       "        <tr>\n",
       "            <td>49030</td>\n",
       "            <td>2</td>\n",
       "            <td>1.0</td>\n",
       "        </tr>\n",
       "        <tr>\n",
       "            <td>555</td>\n",
       "            <td>2</td>\n",
       "            <td>1.0</td>\n",
       "        </tr>\n",
       "        <tr>\n",
       "            <td>38271</td>\n",
       "            <td>3</td>\n",
       "            <td>1.0</td>\n",
       "        </tr>\n",
       "        <tr>\n",
       "            <td>55078</td>\n",
       "            <td>5</td>\n",
       "            <td>1.0</td>\n",
       "        </tr>\n",
       "        <tr>\n",
       "            <td>49180</td>\n",
       "            <td>2</td>\n",
       "            <td>1.0</td>\n",
       "        </tr>\n",
       "        <tr>\n",
       "            <td>33082</td>\n",
       "            <td>3</td>\n",
       "            <td>1.0</td>\n",
       "        </tr>\n",
       "        <tr>\n",
       "            <td>54480</td>\n",
       "            <td>8</td>\n",
       "            <td>1.0</td>\n",
       "        </tr>\n",
       "        <tr>\n",
       "            <td>59322</td>\n",
       "            <td>2</td>\n",
       "            <td>1.0</td>\n",
       "        </tr>\n",
       "        <tr>\n",
       "            <td>32917</td>\n",
       "            <td>3</td>\n",
       "            <td>2.0</td>\n",
       "        </tr>\n",
       "        <tr>\n",
       "            <td>59071</td>\n",
       "            <td>2</td>\n",
       "            <td>1.0</td>\n",
       "        </tr>\n",
       "        <tr>\n",
       "            <td>25740</td>\n",
       "            <td>2</td>\n",
       "            <td>1.0</td>\n",
       "        </tr>\n",
       "        <tr>\n",
       "            <td>41331</td>\n",
       "            <td>2</td>\n",
       "            <td>1.0</td>\n",
       "        </tr>\n",
       "        <tr>\n",
       "            <td>26428</td>\n",
       "            <td>6</td>\n",
       "            <td>1.0</td>\n",
       "        </tr>\n",
       "        <tr>\n",
       "            <td>21490</td>\n",
       "            <td>2</td>\n",
       "            <td>1.0</td>\n",
       "        </tr>\n",
       "        <tr>\n",
       "            <td>8966</td>\n",
       "            <td>2</td>\n",
       "            <td>2.0</td>\n",
       "        </tr>\n",
       "        <tr>\n",
       "            <td>31981</td>\n",
       "            <td>6</td>\n",
       "            <td>1.0</td>\n",
       "        </tr>\n",
       "        <tr>\n",
       "            <td>38</td>\n",
       "            <td>4</td>\n",
       "            <td>1.0</td>\n",
       "        </tr>\n",
       "        <tr>\n",
       "            <td>14565</td>\n",
       "            <td>2</td>\n",
       "            <td>1.0</td>\n",
       "        </tr>\n",
       "        <tr>\n",
       "            <td>36541</td>\n",
       "            <td>2</td>\n",
       "            <td>1.0</td>\n",
       "        </tr>\n",
       "        <tr>\n",
       "            <td>5688</td>\n",
       "            <td>2</td>\n",
       "            <td>1.0</td>\n",
       "        </tr>\n",
       "        <tr>\n",
       "            <td>39920</td>\n",
       "            <td>2</td>\n",
       "            <td>1.0</td>\n",
       "        </tr>\n",
       "        <tr>\n",
       "            <td>44306</td>\n",
       "            <td>3</td>\n",
       "            <td>1.0</td>\n",
       "        </tr>\n",
       "        <tr>\n",
       "            <td>74033</td>\n",
       "            <td>2</td>\n",
       "            <td>1.0</td>\n",
       "        </tr>\n",
       "        <tr>\n",
       "            <td>26618</td>\n",
       "            <td>4</td>\n",
       "            <td>1.0</td>\n",
       "        </tr>\n",
       "        <tr>\n",
       "            <td>76548</td>\n",
       "            <td>2</td>\n",
       "            <td>1.0</td>\n",
       "        </tr>\n",
       "        <tr>\n",
       "            <td>75345</td>\n",
       "            <td>4</td>\n",
       "            <td>1.0</td>\n",
       "        </tr>\n",
       "        <tr>\n",
       "            <td>20427</td>\n",
       "            <td>4</td>\n",
       "            <td>1.0</td>\n",
       "        </tr>\n",
       "        <tr>\n",
       "            <td>10831</td>\n",
       "            <td>3</td>\n",
       "            <td>1.0</td>\n",
       "        </tr>\n",
       "        <tr>\n",
       "            <td>54539</td>\n",
       "            <td>4</td>\n",
       "            <td>1.0</td>\n",
       "        </tr>\n",
       "        <tr>\n",
       "            <td>56128</td>\n",
       "            <td>2</td>\n",
       "            <td>1.0</td>\n",
       "        </tr>\n",
       "    </tbody>\n",
       "</table>"
      ],
      "text/plain": [
       "[(29161, 2, 1.0),\n",
       " (538, 2, 1.0),\n",
       " (47803, 4, 1.0),\n",
       " (36650, 7, 1.0),\n",
       " (19505, 2, 2.0),\n",
       " (59872, 3, 1.0),\n",
       " (41182, 2, 1.0),\n",
       " (9456, 2, 1.0),\n",
       " (299, 3, 1.0),\n",
       " (10262, 2, 1.0),\n",
       " (11312, 3, 1.0),\n",
       " (34103, 3, 1.0),\n",
       " (26078, 2, 1.0),\n",
       " (21801, 3, 1.0),\n",
       " (37954, 3, 2.0),\n",
       " (3938, 4, 1.0),\n",
       " (5931, 3, 1.0),\n",
       " (28668, 2, 1.0),\n",
       " (35406, 4, 1.0),\n",
       " (56936, 2, 1.0),\n",
       " (23295, 2, 1.0),\n",
       " (39504, 2, 1.0),\n",
       " (47568, 2, 1.0),\n",
       " (47610, 2, 2.0),\n",
       " (49030, 2, 1.0),\n",
       " (555, 2, 1.0),\n",
       " (38271, 3, 1.0),\n",
       " (55078, 5, 1.0),\n",
       " (49180, 2, 1.0),\n",
       " (33082, 3, 1.0),\n",
       " (54480, 8, 1.0),\n",
       " (59322, 2, 1.0),\n",
       " (32917, 3, 2.0),\n",
       " (59071, 2, 1.0),\n",
       " (25740, 2, 1.0),\n",
       " (41331, 2, 1.0),\n",
       " (26428, 6, 1.0),\n",
       " (21490, 2, 1.0),\n",
       " (8966, 2, 2.0),\n",
       " (31981, 6, 1.0),\n",
       " (38, 4, 1.0),\n",
       " (14565, 2, 1.0),\n",
       " (36541, 2, 1.0),\n",
       " (5688, 2, 1.0),\n",
       " (39920, 2, 1.0),\n",
       " (44306, 3, 1.0),\n",
       " (74033, 2, 1.0),\n",
       " (26618, 4, 1.0),\n",
       " (76548, 2, 1.0),\n",
       " (75345, 4, 1.0),\n",
       " (20427, 4, 1.0),\n",
       " (10831, 3, 1.0),\n",
       " (54539, 4, 1.0),\n",
       " (56128, 2, 1.0)]"
      ]
     },
     "execution_count": 124,
     "metadata": {},
     "output_type": "execute_result"
    }
   ],
   "source": [
    "%%sql\n",
    "\n",
    "SELECT \n",
    "    unique_id,\n",
    "    number_injured,\n",
    "    number_killed\n",
    "FROM \n",
    "    view_traffic_crash_all\n",
    "WHERE \n",
    "    number_injured > 1 AND number_killed > 0"
   ]
  },
  {
   "cell_type": "markdown",
   "metadata": {},
   "source": [
    "QUESTION #11: For the incidents that included deaths, output the incidents where the number of deaths >= 2."
   ]
  },
  {
   "cell_type": "code",
   "execution_count": 125,
   "metadata": {},
   "outputs": [
    {
     "name": "stdout",
     "output_type": "stream",
     "text": [
      "   sqlite://\n",
      " * sqlite:///traffic_crash.db\n",
      "Done.\n"
     ]
    },
    {
     "data": {
      "text/html": [
       "<table>\n",
       "    <thead>\n",
       "        <tr>\n",
       "            <th>unique_id</th>\n",
       "            <th>number_killed</th>\n",
       "        </tr>\n",
       "    </thead>\n",
       "    <tbody>\n",
       "        <tr>\n",
       "            <td>53747</td>\n",
       "            <td>2.0</td>\n",
       "        </tr>\n",
       "        <tr>\n",
       "            <td>36735</td>\n",
       "            <td>3.0</td>\n",
       "        </tr>\n",
       "        <tr>\n",
       "            <td>77809</td>\n",
       "            <td>4.0</td>\n",
       "        </tr>\n",
       "    </tbody>\n",
       "</table>"
      ],
      "text/plain": [
       "[(53747, 2.0), (36735, 3.0), (77809, 4.0)]"
      ]
     },
     "execution_count": 125,
     "metadata": {},
     "output_type": "execute_result"
    }
   ],
   "source": [
    "%%sql\n",
    "\n",
    "SELECT \n",
    "    unique_id, \n",
    "    number_killed\n",
    "FROM\n",
    "    view_traffic_crash_all\n",
    "WHERE \n",
    "    number_killed > 0\n",
    "GROUP BY \n",
    "    number_killed\n",
    "HAVING \n",
    "    number_killed >= 2;"
   ]
  },
  {
   "cell_type": "markdown",
   "metadata": {},
   "source": [
    "QUESTION #12: Are there more male or female victims? Output the sex with the most number of injured people and the number of incidents."
   ]
  },
  {
   "cell_type": "code",
   "execution_count": 126,
   "metadata": {},
   "outputs": [
    {
     "name": "stdout",
     "output_type": "stream",
     "text": [
      "   sqlite://\n",
      " * sqlite:///traffic_crash.db\n",
      "Done.\n"
     ]
    },
    {
     "data": {
      "text/html": [
       "<table>\n",
       "    <thead>\n",
       "        <tr>\n",
       "            <th>party_sex</th>\n",
       "            <th>max_injured</th>\n",
       "        </tr>\n",
       "    </thead>\n",
       "    <tbody>\n",
       "        <tr>\n",
       "            <td>Male</td>\n",
       "            <td>47555</td>\n",
       "        </tr>\n",
       "    </tbody>\n",
       "</table>"
      ],
      "text/plain": [
       "[('Male', 47555)]"
      ]
     },
     "execution_count": 126,
     "metadata": {},
     "output_type": "execute_result"
    }
   ],
   "source": [
    "%%sql\n",
    "\n",
    "SELECT\n",
    "    party_sex, \n",
    "    MAX(n_injured) AS max_injured \n",
    "FROM\n",
    "    (SELECT party_sex, COUNT(*) AS n_injured\n",
    "    FROM traffic_crash_victims\n",
    "    GROUP BY party_sex);"
   ]
  },
  {
   "cell_type": "markdown",
   "metadata": {},
   "source": [
    "QUESTION #13: Are males or females more likely to be at fault?"
   ]
  },
  {
   "cell_type": "code",
   "execution_count": 127,
   "metadata": {},
   "outputs": [
    {
     "name": "stdout",
     "output_type": "stream",
     "text": [
      "   sqlite://\n",
      " * sqlite:///traffic_crash.db\n",
      "Done.\n"
     ]
    },
    {
     "data": {
      "text/html": [
       "<table>\n",
       "    <thead>\n",
       "        <tr>\n",
       "            <th>party_sex</th>\n",
       "            <th>n_at_fault</th>\n",
       "        </tr>\n",
       "    </thead>\n",
       "    <tbody>\n",
       "        <tr>\n",
       "            <td>Male</td>\n",
       "            <td>17577</td>\n",
       "        </tr>\n",
       "        <tr>\n",
       "            <td>Female</td>\n",
       "            <td>8598</td>\n",
       "        </tr>\n",
       "        <tr>\n",
       "            <td>Not Stated</td>\n",
       "            <td>277</td>\n",
       "        </tr>\n",
       "        <tr>\n",
       "            <td>Other</td>\n",
       "            <td>28</td>\n",
       "        </tr>\n",
       "    </tbody>\n",
       "</table>"
      ],
      "text/plain": [
       "[('Male', 17577), ('Female', 8598), ('Not Stated', 277), ('Other', 28)]"
      ]
     },
     "execution_count": 127,
     "metadata": {},
     "output_type": "execute_result"
    }
   ],
   "source": [
    "%%sql\n",
    "\n",
    "SELECT\n",
    "    party_sex, \n",
    "    COUNT(*) AS n_at_fault\n",
    "FROM \n",
    "    traffic_crash_victims\n",
    "WHERE \n",
    "    at_fault = 'Yes'\n",
    "GROUP BY \n",
    "    party_sex\n",
    "ORDER BY \n",
    "    n_at_fault DESC;"
   ]
  },
  {
   "cell_type": "markdown",
   "metadata": {},
   "source": [
    "QUESTION #14: What are the different types of collisions? Rank them according to the number of incidents."
   ]
  },
  {
   "cell_type": "code",
   "execution_count": 128,
   "metadata": {},
   "outputs": [
    {
     "name": "stdout",
     "output_type": "stream",
     "text": [
      "   sqlite://\n",
      " * sqlite:///traffic_crash.db\n",
      "Done.\n"
     ]
    },
    {
     "data": {
      "text/html": [
       "<table>\n",
       "    <thead>\n",
       "        <tr>\n",
       "            <th>type_of_collision</th>\n",
       "            <th>n_incidents</th>\n",
       "            <th>rank</th>\n",
       "        </tr>\n",
       "    </thead>\n",
       "    <tbody>\n",
       "        <tr>\n",
       "            <td>Broadside</td>\n",
       "            <td>18168</td>\n",
       "            <td>1</td>\n",
       "        </tr>\n",
       "        <tr>\n",
       "            <td>Vehicle/Pedestrian</td>\n",
       "            <td>12539</td>\n",
       "            <td>2</td>\n",
       "        </tr>\n",
       "        <tr>\n",
       "            <td>Rear End</td>\n",
       "            <td>9671</td>\n",
       "            <td>3</td>\n",
       "        </tr>\n",
       "        <tr>\n",
       "            <td>Sideswipe</td>\n",
       "            <td>7732</td>\n",
       "            <td>4</td>\n",
       "        </tr>\n",
       "        <tr>\n",
       "            <td>Head-On</td>\n",
       "            <td>3541</td>\n",
       "            <td>5</td>\n",
       "        </tr>\n",
       "        <tr>\n",
       "            <td>Other</td>\n",
       "            <td>3106</td>\n",
       "            <td>6</td>\n",
       "        </tr>\n",
       "        <tr>\n",
       "            <td>Hit Object</td>\n",
       "            <td>2266</td>\n",
       "            <td>7</td>\n",
       "        </tr>\n",
       "        <tr>\n",
       "            <td>Not Stated</td>\n",
       "            <td>1384</td>\n",
       "            <td>8</td>\n",
       "        </tr>\n",
       "        <tr>\n",
       "            <td>Overturned</td>\n",
       "            <td>1074</td>\n",
       "            <td>9</td>\n",
       "        </tr>\n",
       "    </tbody>\n",
       "</table>"
      ],
      "text/plain": [
       "[('Broadside', 18168, 1),\n",
       " ('Vehicle/Pedestrian', 12539, 2),\n",
       " ('Rear End', 9671, 3),\n",
       " ('Sideswipe', 7732, 4),\n",
       " ('Head-On', 3541, 5),\n",
       " ('Other', 3106, 6),\n",
       " ('Hit Object', 2266, 7),\n",
       " ('Not Stated', 1384, 8),\n",
       " ('Overturned', 1074, 9)]"
      ]
     },
     "execution_count": 128,
     "metadata": {},
     "output_type": "execute_result"
    }
   ],
   "source": [
    "%%sql\n",
    "\n",
    "SELECT \n",
    "    type_of_collision, \n",
    "    n_incidents,\n",
    "    DENSE_RANK() OVER (ORDER BY n_incidents DESC) AS rank\n",
    "FROM (\n",
    "    SELECT \n",
    "        type_of_collision, \n",
    "        COUNT(*) AS n_incidents\n",
    "    FROM \n",
    "        view_traffic_crash_all\n",
    "    GROUP BY \n",
    "        type_of_collision);"
   ]
  },
  {
   "cell_type": "markdown",
   "metadata": {},
   "source": [
    "QUESTION #15: Identify the type of victim with the highest number of fatalities."
   ]
  },
  {
   "cell_type": "code",
   "execution_count": 129,
   "metadata": {},
   "outputs": [
    {
     "name": "stdout",
     "output_type": "stream",
     "text": [
      "   sqlite://\n",
      " * sqlite:///traffic_crash.db\n",
      "Done.\n"
     ]
    },
    {
     "data": {
      "text/html": [
       "<table>\n",
       "    <thead>\n",
       "        <tr>\n",
       "            <th>deceased</th>\n",
       "            <th>number_killed</th>\n",
       "        </tr>\n",
       "    </thead>\n",
       "    <tbody>\n",
       "        <tr>\n",
       "            <td>Pedestrian</td>\n",
       "            <td>164</td>\n",
       "        </tr>\n",
       "        <tr>\n",
       "            <td>Motorcyclist</td>\n",
       "            <td>41</td>\n",
       "        </tr>\n",
       "        <tr>\n",
       "            <td>Driver</td>\n",
       "            <td>34</td>\n",
       "        </tr>\n",
       "        <tr>\n",
       "            <td>Bicyclist</td>\n",
       "            <td>22</td>\n",
       "        </tr>\n",
       "        <tr>\n",
       "            <td>Passenger</td>\n",
       "            <td>12</td>\n",
       "        </tr>\n",
       "        <tr>\n",
       "            <td>Standup Powered Device Rider</td>\n",
       "            <td>9</td>\n",
       "        </tr>\n",
       "        <tr>\n",
       "            <td>Exterior Passenger</td>\n",
       "            <td>3</td>\n",
       "        </tr>\n",
       "        <tr>\n",
       "            <td>Moped</td>\n",
       "            <td>2</td>\n",
       "        </tr>\n",
       "    </tbody>\n",
       "</table>"
      ],
      "text/plain": [
       "[('Pedestrian', 164),\n",
       " ('Motorcyclist', 41),\n",
       " ('Driver', 34),\n",
       " ('Bicyclist', 22),\n",
       " ('Passenger', 12),\n",
       " ('Standup Powered Device Rider', 9),\n",
       " ('Exterior Passenger', 3),\n",
       " ('Moped', 2)]"
      ]
     },
     "execution_count": 129,
     "metadata": {},
     "output_type": "execute_result"
    }
   ],
   "source": [
    "%%sql\n",
    "\n",
    "SELECT \n",
    "    deceased, \n",
    "    COUNT(*) AS number_killed\n",
    "FROM \n",
    "    traffic_crash_fatality\n",
    "GROUP BY \n",
    "    deceased\n",
    "ORDER BY\n",
    "    number_killed DESC;"
   ]
  },
  {
   "cell_type": "markdown",
   "metadata": {},
   "source": [
    "QUESTION #16: What is the percentage of incidents where there are no injured people?"
   ]
  },
  {
   "cell_type": "code",
   "execution_count": 141,
   "metadata": {},
   "outputs": [
    {
     "name": "stdout",
     "output_type": "stream",
     "text": [
      "   sqlite://\n",
      " * sqlite:///traffic_crash.db\n",
      "Done.\n"
     ]
    },
    {
     "data": {
      "text/html": [
       "<table>\n",
       "    <thead>\n",
       "        <tr>\n",
       "            <th>perc_no_injuries</th>\n",
       "        </tr>\n",
       "    </thead>\n",
       "    <tbody>\n",
       "        <tr>\n",
       "            <td>1.01</td>\n",
       "        </tr>\n",
       "    </tbody>\n",
       "</table>"
      ],
      "text/plain": [
       "[(1.01,)]"
      ]
     },
     "execution_count": 141,
     "metadata": {},
     "output_type": "execute_result"
    }
   ],
   "source": [
    "%%sql\n",
    "\n",
    "WITH total_incidents AS (\n",
    "    SELECT COUNT(*) AS total\n",
    "    FROM view_traffic_crash_all\n",
    "),\n",
    "injured_zero_count AS (\n",
    "    SELECT COUNT(*) AS zero_injured\n",
    "    FROM view_traffic_crash_all\n",
    "    WHERE number_injured = 0\n",
    ")\n",
    "SELECT\n",
    "    ROUND((zero_injured * 1.0 / total)*100, 2) AS perc_no_injuries\n",
    "FROM\n",
    "    total_incidents, injured_zero_count;\n",
    "\n",
    "\n",
    "\n"
   ]
  },
  {
   "cell_type": "markdown",
   "metadata": {},
   "source": [
    "# 4. \n",
    " * Create a csv with relevant columns for future data visualization. "
   ]
  },
  {
   "cell_type": "code",
   "execution_count": 144,
   "metadata": {},
   "outputs": [
    {
     "name": "stdout",
     "output_type": "stream",
     "text": [
      "   sqlite://\n",
      " * sqlite:///traffic_crash.db\n",
      "Done.\n",
      "Done.\n"
     ]
    },
    {
     "data": {
      "text/plain": [
       "[]"
      ]
     },
     "execution_count": 144,
     "metadata": {},
     "output_type": "execute_result"
    }
   ],
   "source": [
    "%%sql\n",
    "\n",
    "DROP VIEW IF EXISTS view_data_vis;\n",
    "\n",
    "CREATE VIEW view_data_vis AS\n",
    "SELECT\n",
    "    t.unique_id,\n",
    "    t.case_id_pkey,\n",
    "    SUBSTR(t.collision_date, 1, 4) AS incident_year,\n",
    "    t.collision_date,\n",
    "    t.collision_time,\n",
    "    t.type_of_collision,\n",
    "    t.number_killed,\n",
    "    t.number_injured,\n",
    "    t.dph_col_grp_description,\n",
    "    t.primary_rd,\n",
    "    t.secondary_rd,\n",
    "    t.road_surface,\n",
    "    t.lighting,\n",
    "    v.victim_id,\n",
    "    v.victim_sex,\n",
    "    v.victim_age\n",
    "FROM \n",
    "    view_traffic_crash_all AS t\n",
    "LEFT JOIN\n",
    "    (SELECT case_id_pkey, victim_id, victim_sex, victim_age \n",
    "     FROM traffic_crash_victims) AS v\n",
    "ON t.case_id_pkey = v.case_id_pkey;\n"
   ]
  },
  {
   "cell_type": "code",
   "execution_count": 149,
   "metadata": {},
   "outputs": [],
   "source": [
    "# Replace 'view_data_vis' with your actual view name\n",
    "conn = sqlite3.connect('traffic_crash.db')\n",
    "query = \"SELECT * FROM view_data_vis\"\n",
    "output_df = pd.read_sql_query(query, conn)\n",
    "output_df.to_csv('Data/SF_Traffic_Incidents_Cleaned.csv', index=False)\n",
    "\n"
   ]
  }
 ],
 "metadata": {
  "kernelspec": {
   "display_name": "projects",
   "language": "python",
   "name": "python3"
  },
  "language_info": {
   "codemirror_mode": {
    "name": "ipython",
    "version": 3
   },
   "file_extension": ".py",
   "mimetype": "text/x-python",
   "name": "python",
   "nbconvert_exporter": "python",
   "pygments_lexer": "ipython3",
   "version": "3.11.7"
  }
 },
 "nbformat": 4,
 "nbformat_minor": 2
}
