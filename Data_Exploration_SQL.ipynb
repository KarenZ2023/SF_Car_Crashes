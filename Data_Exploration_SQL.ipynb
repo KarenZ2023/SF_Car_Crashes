{
 "cells": [
  {
   "cell_type": "markdown",
   "metadata": {},
   "source": [
    "# 1. Create SQL database for traffic crash datasets"
   ]
  },
  {
   "cell_type": "code",
   "execution_count": 1,
   "metadata": {},
   "outputs": [],
   "source": [
    "#import libraries \n",
    "import sqlite3\n",
    "import pandas as pd\n"
   ]
  },
  {
   "cell_type": "code",
   "execution_count": 2,
   "metadata": {},
   "outputs": [
    {
     "name": "stderr",
     "output_type": "stream",
     "text": [
      "c:\\Users\\yong2\\miniconda3\\envs\\py37\\lib\\site-packages\\IPython\\core\\interactiveshell.py:3552: DtypeWarning: Columns (3,15) have mixed types.Specify dtype option on import or set low_memory=False.\n",
      "  exec(code_obj, self.user_global_ns, self.user_ns)\n",
      "c:\\Users\\yong2\\miniconda3\\envs\\py37\\lib\\site-packages\\pandas\\core\\generic.py:2882: UserWarning: The spaces in these column names will not be changed. In pandas versions < 0.14, spaces were converted to underscores.\n",
      "  method=method,\n"
     ]
    }
   ],
   "source": [
    "#list the csv files\n",
    "csv_files = [\n",
    "    ('Data/Traffic_Crashes_Resulting_in_Fatality_20240819.csv', 'traffic_crash_fatality'),\n",
    "    ('Data/Traffic_Crashes_Resulting_in_Injury__Parties_Involved_20240819.csv', 'traffic_crash_parties'),\n",
    "    ('Data/Traffic_Crashes_Resulting_in_Injury__Victims_Involved_20240819.csv', 'traffic_crash_victims'),\n",
    "    ('Data/Traffic_Crashes_Resulting_in_Injury_20240819.csv', 'traffic_crash_all')\n",
    "]\n",
    "\n",
    "#create/connect to sqlite database\n",
    "conn = sqlite3.connect(\"traffic_crash.db\")\n",
    "\n",
    "#import the data into the correct table\n",
    "for csv_file, table_name in csv_files:\n",
    "    #read the file\n",
    "    df = pd.read_csv(csv_file)\n",
    "    df.to_sql(table_name, conn, if_exists='replace', index=False)\n",
    "\n",
    "#close the connect\n",
    "conn.close()"
   ]
  },
  {
   "cell_type": "markdown",
   "metadata": {},
   "source": [
    "# 2. Data Wrangling"
   ]
  },
  {
   "cell_type": "code",
   "execution_count": 2,
   "metadata": {},
   "outputs": [],
   "source": [
    "%load_ext sql\n",
    "%sql sqlite:///traffic_crash.db"
   ]
  },
  {
   "cell_type": "markdown",
   "metadata": {},
   "source": [
    "#### **ISSUE #1: There should only be one case_id_pkey for each incident in traffic_crash_all, but case_id_pkey 200376243 has 2 entries. Remove one row corresponding to case_id_pkey 200376243, since the information is the same.** "
   ]
  },
  {
   "cell_type": "code",
   "execution_count": 18,
   "metadata": {},
   "outputs": [
    {
     "name": "stdout",
     "output_type": "stream",
     "text": [
      " * sqlite:///traffic_crash.db\n",
      "Done.\n"
     ]
    },
    {
     "data": {
      "text/html": [
       "<table>\n",
       "    <thead>\n",
       "        <tr>\n",
       "            <th>case_id_pkey</th>\n",
       "            <th>n_incidents</th>\n",
       "        </tr>\n",
       "    </thead>\n",
       "    <tbody>\n",
       "        <tr>\n",
       "            <td>200376243</td>\n",
       "            <td>2</td>\n",
       "        </tr>\n",
       "    </tbody>\n",
       "</table>"
      ],
      "text/plain": [
       "[('200376243', 2)]"
      ]
     },
     "execution_count": 18,
     "metadata": {},
     "output_type": "execute_result"
    }
   ],
   "source": [
    "%%sql\n",
    "\n",
    "SELECT\n",
    "    case_id_pkey, \n",
    "    count(*) AS n_incidents \n",
    "FROM \n",
    "    traffic_crash_all\n",
    "GROUP BY \n",
    "    case_id_pkey\n",
    "HAVING \n",
    "    n_incidents > 1"
   ]
  },
  {
   "cell_type": "code",
   "execution_count": 19,
   "metadata": {},
   "outputs": [
    {
     "name": "stdout",
     "output_type": "stream",
     "text": [
      " * sqlite:///traffic_crash.db\n",
      "Done.\n"
     ]
    },
    {
     "data": {
      "text/html": [
       "<table>\n",
       "    <thead>\n",
       "        <tr>\n",
       "            <th>unique_id</th>\n",
       "            <th>cnn_intrsctn_fkey</th>\n",
       "            <th>cnn_sgmt_fkey</th>\n",
       "            <th>case_id_pkey</th>\n",
       "            <th>tb_latitude</th>\n",
       "            <th>tb_longitude</th>\n",
       "            <th>geocode_source</th>\n",
       "            <th>geocode_location</th>\n",
       "            <th>collision_datetime</th>\n",
       "            <th>collision_date</th>\n",
       "            <th>collision_time</th>\n",
       "            <th>accident_year</th>\n",
       "            <th>month</th>\n",
       "            <th>day_of_week</th>\n",
       "            <th>time_cat</th>\n",
       "            <th>juris</th>\n",
       "            <th>officer_id</th>\n",
       "            <th>reporting_district</th>\n",
       "            <th>beat_number</th>\n",
       "            <th>primary_rd</th>\n",
       "            <th>secondary_rd</th>\n",
       "            <th>distance</th>\n",
       "            <th>direction</th>\n",
       "            <th>weather_1</th>\n",
       "            <th>weather_2</th>\n",
       "            <th>collision_severity</th>\n",
       "            <th>type_of_collision</th>\n",
       "            <th>mviw</th>\n",
       "            <th>ped_action</th>\n",
       "            <th>road_surface</th>\n",
       "            <th>road_cond_1</th>\n",
       "            <th>road_cond_2</th>\n",
       "            <th>lighting</th>\n",
       "            <th>control_device</th>\n",
       "            <th>intersection</th>\n",
       "            <th>vz_pcf_code</th>\n",
       "            <th>vz_pcf_group</th>\n",
       "            <th>vz_pcf_description</th>\n",
       "            <th>vz_pcf_link</th>\n",
       "            <th>number_killed</th>\n",
       "            <th>number_injured</th>\n",
       "            <th>street_view</th>\n",
       "            <th>dph_col_grp</th>\n",
       "            <th>dph_col_grp_description</th>\n",
       "            <th>party_at_fault</th>\n",
       "            <th>party1_type</th>\n",
       "            <th>party1_dir_of_travel</th>\n",
       "            <th>party1_move_pre_acc</th>\n",
       "            <th>party2_type</th>\n",
       "            <th>party2_dir_of_travel</th>\n",
       "            <th>party2_move_pre_acc</th>\n",
       "            <th>point</th>\n",
       "            <th>data_as_of</th>\n",
       "            <th>data_updated_at</th>\n",
       "            <th>data_loaded_at</th>\n",
       "            <th>analysis_neighborhood</th>\n",
       "            <th>supervisor_district</th>\n",
       "            <th>police_district</th>\n",
       "            <th>Current Police Districts</th>\n",
       "            <th>Current Supervisor Districts</th>\n",
       "            <th>Analysis Neighborhoods</th>\n",
       "            <th>Neighborhoods</th>\n",
       "            <th>SF Find Neighborhoods</th>\n",
       "        </tr>\n",
       "    </thead>\n",
       "    <tbody>\n",
       "        <tr>\n",
       "            <td>61456</td>\n",
       "            <td>25723000.0</td>\n",
       "            <td>4013000.0</td>\n",
       "            <td>200376243</td>\n",
       "            <td>37.7629445652</td>\n",
       "            <td>-122.42851403699996</td>\n",
       "            <td>SFPD-INTERIM DB</td>\n",
       "            <td>CITY STREET</td>\n",
       "            <td>06/23/2020 10:31:00 AM</td>\n",
       "            <td>2020 June 23</td>\n",
       "            <td>10:31:00</td>\n",
       "            <td>2020</td>\n",
       "            <td>June</td>\n",
       "            <td>Tuesday</td>\n",
       "            <td>10:01 am to 2:00 pm</td>\n",
       "            <td>3801</td>\n",
       "            <td>1023</td>\n",
       "            <td>Mission</td>\n",
       "            <td>1-Car</td>\n",
       "            <td>CHURCH ST</td>\n",
       "            <td>17TH ST</td>\n",
       "            <td>20.0</td>\n",
       "            <td>North</td>\n",
       "            <td>Clear</td>\n",
       "            <td>Not Stated</td>\n",
       "            <td>Injury (Other Visible)</td>\n",
       "            <td>Overturned</td>\n",
       "            <td>Not Stated</td>\n",
       "            <td>No Pedestrian Involved</td>\n",
       "            <td>Dry</td>\n",
       "            <td>No Unusual Condition</td>\n",
       "            <td>Not Stated</td>\n",
       "            <td>Daylight</td>\n",
       "            <td>Functioning</td>\n",
       "            <td>Intersection &lt;= 20ft</td>\n",
       "            <td>22350</td>\n",
       "            <td>22350</td>\n",
       "            <td>Unsafe speed for prevailing conditions</td>\n",
       "            <td>http://leginfo.legislature.ca.gov/faces/codes_displaySection.xhtml?lawCode=VEH&amp;sectionNum=22350</td>\n",
       "            <td>0.0</td>\n",
       "            <td>1</td>\n",
       "            <td>https://maps.google.com/maps?q=&amp;layer=c&amp;cbll=37.7629445652,-122.42851403699997</td>\n",
       "            <td>FF</td>\n",
       "            <td>Bicycle Only</td>\n",
       "            <td>None</td>\n",
       "            <td>Bicyclist</td>\n",
       "            <td>North</td>\n",
       "            <td>Proceeding Straight</td>\n",
       "            <td>None</td>\n",
       "            <td>None</td>\n",
       "            <td>None</td>\n",
       "            <td>POINT (-122.428514037 37.762944565)</td>\n",
       "            <td>05/03/2023 12:00:00 AM</td>\n",
       "            <td>04/29/2024 12:00:00 AM</td>\n",
       "            <td>07/12/2024 03:08:07 PM</td>\n",
       "            <td>Castro/Upper Market</td>\n",
       "            <td>8.0</td>\n",
       "            <td>MISSION</td>\n",
       "            <td>3.0</td>\n",
       "            <td>5.0</td>\n",
       "            <td>5.0</td>\n",
       "            <td>37.0</td>\n",
       "            <td>37.0</td>\n",
       "        </tr>\n",
       "        <tr>\n",
       "            <td>53071</td>\n",
       "            <td>25723000.0</td>\n",
       "            <td>4013000.0</td>\n",
       "            <td>200376243</td>\n",
       "            <td>37.7629445652</td>\n",
       "            <td>-122.42851403699996</td>\n",
       "            <td>SFPD-INTERIM DB</td>\n",
       "            <td>CITY STREET</td>\n",
       "            <td>06/23/2020 10:31:00 AM</td>\n",
       "            <td>2020 June 23</td>\n",
       "            <td>10:31:00</td>\n",
       "            <td>2020</td>\n",
       "            <td>June</td>\n",
       "            <td>Tuesday</td>\n",
       "            <td>10:01 am to 2:00 pm</td>\n",
       "            <td>3801</td>\n",
       "            <td>1023</td>\n",
       "            <td>Mission</td>\n",
       "            <td>1-Car</td>\n",
       "            <td>CHURCH ST</td>\n",
       "            <td>17TH ST</td>\n",
       "            <td>20.0</td>\n",
       "            <td>North</td>\n",
       "            <td>Clear</td>\n",
       "            <td>Not Stated</td>\n",
       "            <td>Injury (Other Visible)</td>\n",
       "            <td>Overturned</td>\n",
       "            <td>Not Stated</td>\n",
       "            <td>No Pedestrian Involved</td>\n",
       "            <td>Dry</td>\n",
       "            <td>No Unusual Condition</td>\n",
       "            <td>Not Stated</td>\n",
       "            <td>Daylight</td>\n",
       "            <td>Functioning</td>\n",
       "            <td>Intersection &lt;= 20ft</td>\n",
       "            <td>22350</td>\n",
       "            <td>22350</td>\n",
       "            <td>Unsafe speed for prevailing conditions</td>\n",
       "            <td>http://leginfo.legislature.ca.gov/faces/codes_displaySection.xhtml?lawCode=VEH&amp;sectionNum=22350</td>\n",
       "            <td>0.0</td>\n",
       "            <td>1</td>\n",
       "            <td>https://maps.google.com/maps?q=&amp;layer=c&amp;cbll=37.7629445652,-122.428514037</td>\n",
       "            <td>FF</td>\n",
       "            <td>Bicycle Only</td>\n",
       "            <td>None</td>\n",
       "            <td>Bicyclist</td>\n",
       "            <td>North</td>\n",
       "            <td>Proceeding Straight</td>\n",
       "            <td>None</td>\n",
       "            <td>None</td>\n",
       "            <td>None</td>\n",
       "            <td>POINT (-122.428514037 37.762944565)</td>\n",
       "            <td>06/23/2020 12:00:00 AM</td>\n",
       "            <td>04/26/2023 12:00:00 AM</td>\n",
       "            <td>07/12/2024 03:08:07 PM</td>\n",
       "            <td>Castro/Upper Market</td>\n",
       "            <td>8.0</td>\n",
       "            <td>MISSION</td>\n",
       "            <td>3.0</td>\n",
       "            <td>5.0</td>\n",
       "            <td>5.0</td>\n",
       "            <td>37.0</td>\n",
       "            <td>37.0</td>\n",
       "        </tr>\n",
       "    </tbody>\n",
       "</table>"
      ],
      "text/plain": [
       "[(61456, 25723000.0, 4013000.0, '200376243', 37.7629445652, -122.42851403699996, 'SFPD-INTERIM DB', 'CITY STREET', '06/23/2020 10:31:00 AM', '2020 June 23', '10:31:00', 2020, 'June', 'Tuesday', '10:01 am to 2:00 pm', '3801', '1023', 'Mission', '1-Car', 'CHURCH ST', '17TH ST', 20.0, 'North', 'Clear', 'Not Stated', 'Injury (Other Visible)', 'Overturned', 'Not Stated', 'No Pedestrian Involved', 'Dry', 'No Unusual Condition', 'Not Stated', 'Daylight', 'Functioning', 'Intersection <= 20ft', '22350', '22350', 'Unsafe speed for prevailing conditions', 'http://leginfo.legislature.ca.gov/faces/codes_displaySection.xhtml?lawCode=VEH&sectionNum=22350', 0.0, 1, 'https://maps.google.com/maps?q=&layer=c&cbll=37.7629445652,-122.42851403699997', 'FF', 'Bicycle Only', None, 'Bicyclist', 'North', 'Proceeding Straight', None, None, None, 'POINT (-122.428514037 37.762944565)', '05/03/2023 12:00:00 AM', '04/29/2024 12:00:00 AM', '07/12/2024 03:08:07 PM', 'Castro/Upper Market', 8.0, 'MISSION', 3.0, 5.0, 5.0, 37.0, 37.0),\n",
       " (53071, 25723000.0, 4013000.0, '200376243', 37.7629445652, -122.42851403699996, 'SFPD-INTERIM DB', 'CITY STREET', '06/23/2020 10:31:00 AM', '2020 June 23', '10:31:00', 2020, 'June', 'Tuesday', '10:01 am to 2:00 pm', '3801', '1023', 'Mission', '1-Car', 'CHURCH ST', '17TH ST', 20.0, 'North', 'Clear', 'Not Stated', 'Injury (Other Visible)', 'Overturned', 'Not Stated', 'No Pedestrian Involved', 'Dry', 'No Unusual Condition', 'Not Stated', 'Daylight', 'Functioning', 'Intersection <= 20ft', '22350', '22350', 'Unsafe speed for prevailing conditions', 'http://leginfo.legislature.ca.gov/faces/codes_displaySection.xhtml?lawCode=VEH&sectionNum=22350', 0.0, 1, 'https://maps.google.com/maps?q=&layer=c&cbll=37.7629445652,-122.428514037', 'FF', 'Bicycle Only', None, 'Bicyclist', 'North', 'Proceeding Straight', None, None, None, 'POINT (-122.428514037 37.762944565)', '06/23/2020 12:00:00 AM', '04/26/2023 12:00:00 AM', '07/12/2024 03:08:07 PM', 'Castro/Upper Market', 8.0, 'MISSION', 3.0, 5.0, 5.0, 37.0, 37.0)]"
      ]
     },
     "execution_count": 19,
     "metadata": {},
     "output_type": "execute_result"
    }
   ],
   "source": [
    "%%sql\n",
    "\n",
    "SELECT * \n",
    "FROM \n",
    "    traffic_crash_all\n",
    "WHERE \n",
    "    case_id_pkey = 200376243"
   ]
  },
  {
   "cell_type": "markdown",
   "metadata": {},
   "source": [
    "#### **ISSUE #2: accident_year in traffic_crash_all is inaccurate (unless someone predicted the future). We are in 2024, and there are incidents in 2025 and 2026**"
   ]
  },
  {
   "cell_type": "code",
   "execution_count": 20,
   "metadata": {},
   "outputs": [
    {
     "name": "stdout",
     "output_type": "stream",
     "text": [
      " * sqlite:///traffic_crash.db\n",
      "Done.\n"
     ]
    },
    {
     "data": {
      "text/html": [
       "<table>\n",
       "    <thead>\n",
       "        <tr>\n",
       "            <th>accident_year</th>\n",
       "            <th>n_incidents</th>\n",
       "        </tr>\n",
       "    </thead>\n",
       "    <tbody>\n",
       "        <tr>\n",
       "            <td>2025</td>\n",
       "            <td>1</td>\n",
       "        </tr>\n",
       "        <tr>\n",
       "            <td>2026</td>\n",
       "            <td>1</td>\n",
       "        </tr>\n",
       "    </tbody>\n",
       "</table>"
      ],
      "text/plain": [
       "[(2025, 1), (2026, 1)]"
      ]
     },
     "execution_count": 20,
     "metadata": {},
     "output_type": "execute_result"
    }
   ],
   "source": [
    "%%sql\n",
    "\n",
    "SELECT \n",
    "    accident_year, \n",
    "    COUNT(*) as n_incidents \n",
    "FROM \n",
    "    traffic_crash_all\n",
    "GROUP BY \n",
    "    accident_year\n",
    "HAVING \n",
    "    accident_year > 2024\n"
   ]
  },
  {
   "cell_type": "markdown",
   "metadata": {},
   "source": [
    "#### **SOLUTION: Create a view of traffic_crash_all where we remove the extra entry for case_id_pkey 200376243, remove accident_year, and create a new column for the year.** "
   ]
  },
  {
   "cell_type": "code",
   "execution_count": 21,
   "metadata": {},
   "outputs": [
    {
     "name": "stdout",
     "output_type": "stream",
     "text": [
      " * sqlite:///traffic_crash.db\n",
      "Done.\n",
      "Done.\n"
     ]
    },
    {
     "data": {
      "text/plain": [
       "[]"
      ]
     },
     "execution_count": 21,
     "metadata": {},
     "output_type": "execute_result"
    }
   ],
   "source": [
    "%%sql\n",
    "\n",
    "DROP VIEW IF EXISTS view_traffic_crash_all;\n",
    "\n",
    "CREATE VIEW view_traffic_crash_all AS\n",
    "SELECT\n",
    "    unique_id,\n",
    "    case_id_pkey,\n",
    "    CAST(SUBSTR(collision_date, 1, 4) AS INTEGER) AS incident_year,\n",
    "    collision_date,\n",
    "    collision_time,\n",
    "    collision_datetime,\n",
    "    type_of_collision,\n",
    "    number_killed,\n",
    "    number_injured,\n",
    "    dph_col_grp_description,\n",
    "    primary_rd,\n",
    "    secondary_rd,\n",
    "    road_surface,\n",
    "    lighting,\n",
    "    analysis_neighborhood,\n",
    "    tb_latitude,\n",
    "    tb_longitude\n",
    "FROM \n",
    "    traffic_crash_all\n",
    "WHERE \n",
    "    unique_id != 61456 and incident_year!=2024;\n"
   ]
  },
  {
   "cell_type": "markdown",
   "metadata": {},
   "source": [
    "# 3. Data Exploration"
   ]
  },
  {
   "cell_type": "markdown",
   "metadata": {},
   "source": [
    "#### **QUESTION 1: For each year, output the total number of car incidents, number killed and number injuries.**\n"
   ]
  },
  {
   "cell_type": "code",
   "execution_count": 22,
   "metadata": {},
   "outputs": [
    {
     "name": "stdout",
     "output_type": "stream",
     "text": [
      " * sqlite:///traffic_crash.db\n",
      "Done.\n"
     ]
    },
    {
     "data": {
      "text/html": [
       "<table>\n",
       "    <thead>\n",
       "        <tr>\n",
       "            <th>incident_year</th>\n",
       "            <th>incidents_per_year</th>\n",
       "            <th>number_killed_per_year</th>\n",
       "            <th>number_injured_per_year</th>\n",
       "        </tr>\n",
       "    </thead>\n",
       "    <tbody>\n",
       "        <tr>\n",
       "            <td>2005</td>\n",
       "            <td>3257</td>\n",
       "            <td>27.0</td>\n",
       "            <td>4437</td>\n",
       "        </tr>\n",
       "        <tr>\n",
       "            <td>2006</td>\n",
       "            <td>2896</td>\n",
       "            <td>30.0</td>\n",
       "            <td>3806</td>\n",
       "        </tr>\n",
       "        <tr>\n",
       "            <td>2007</td>\n",
       "            <td>3065</td>\n",
       "            <td>42.0</td>\n",
       "            <td>3957</td>\n",
       "        </tr>\n",
       "        <tr>\n",
       "            <td>2008</td>\n",
       "            <td>3039</td>\n",
       "            <td>27.0</td>\n",
       "            <td>3864</td>\n",
       "        </tr>\n",
       "        <tr>\n",
       "            <td>2009</td>\n",
       "            <td>2900</td>\n",
       "            <td>31.0</td>\n",
       "            <td>3702</td>\n",
       "        </tr>\n",
       "        <tr>\n",
       "            <td>2010</td>\n",
       "            <td>3095</td>\n",
       "            <td>22.0</td>\n",
       "            <td>3942</td>\n",
       "        </tr>\n",
       "        <tr>\n",
       "            <td>2011</td>\n",
       "            <td>3097</td>\n",
       "            <td>28.0</td>\n",
       "            <td>3842</td>\n",
       "        </tr>\n",
       "        <tr>\n",
       "            <td>2012</td>\n",
       "            <td>3270</td>\n",
       "            <td>29.0</td>\n",
       "            <td>4018</td>\n",
       "        </tr>\n",
       "        <tr>\n",
       "            <td>2013</td>\n",
       "            <td>3071</td>\n",
       "            <td>35.0</td>\n",
       "            <td>3854</td>\n",
       "        </tr>\n",
       "        <tr>\n",
       "            <td>2014</td>\n",
       "            <td>2967</td>\n",
       "            <td>31.0</td>\n",
       "            <td>3675</td>\n",
       "        </tr>\n",
       "        <tr>\n",
       "            <td>2015</td>\n",
       "            <td>3057</td>\n",
       "            <td>31.0</td>\n",
       "            <td>3784</td>\n",
       "        </tr>\n",
       "        <tr>\n",
       "            <td>2016</td>\n",
       "            <td>3328</td>\n",
       "            <td>28.0</td>\n",
       "            <td>4163</td>\n",
       "        </tr>\n",
       "        <tr>\n",
       "            <td>2017</td>\n",
       "            <td>3430</td>\n",
       "            <td>20.0</td>\n",
       "            <td>4256</td>\n",
       "        </tr>\n",
       "        <tr>\n",
       "            <td>2018</td>\n",
       "            <td>3307</td>\n",
       "            <td>24.0</td>\n",
       "            <td>4125</td>\n",
       "        </tr>\n",
       "        <tr>\n",
       "            <td>2019</td>\n",
       "            <td>3485</td>\n",
       "            <td>31.0</td>\n",
       "            <td>4236</td>\n",
       "        </tr>\n",
       "        <tr>\n",
       "            <td>2020</td>\n",
       "            <td>2453</td>\n",
       "            <td>30.0</td>\n",
       "            <td>2965</td>\n",
       "        </tr>\n",
       "        <tr>\n",
       "            <td>2021</td>\n",
       "            <td>2758</td>\n",
       "            <td>26.0</td>\n",
       "            <td>3457</td>\n",
       "        </tr>\n",
       "        <tr>\n",
       "            <td>2022</td>\n",
       "            <td>2882</td>\n",
       "            <td>39.0</td>\n",
       "            <td>3595</td>\n",
       "        </tr>\n",
       "        <tr>\n",
       "            <td>2023</td>\n",
       "            <td>2927</td>\n",
       "            <td>28.0</td>\n",
       "            <td>3559</td>\n",
       "        </tr>\n",
       "    </tbody>\n",
       "</table>"
      ],
      "text/plain": [
       "[(2005, 3257, 27.0, 4437),\n",
       " (2006, 2896, 30.0, 3806),\n",
       " (2007, 3065, 42.0, 3957),\n",
       " (2008, 3039, 27.0, 3864),\n",
       " (2009, 2900, 31.0, 3702),\n",
       " (2010, 3095, 22.0, 3942),\n",
       " (2011, 3097, 28.0, 3842),\n",
       " (2012, 3270, 29.0, 4018),\n",
       " (2013, 3071, 35.0, 3854),\n",
       " (2014, 2967, 31.0, 3675),\n",
       " (2015, 3057, 31.0, 3784),\n",
       " (2016, 3328, 28.0, 4163),\n",
       " (2017, 3430, 20.0, 4256),\n",
       " (2018, 3307, 24.0, 4125),\n",
       " (2019, 3485, 31.0, 4236),\n",
       " (2020, 2453, 30.0, 2965),\n",
       " (2021, 2758, 26.0, 3457),\n",
       " (2022, 2882, 39.0, 3595),\n",
       " (2023, 2927, 28.0, 3559)]"
      ]
     },
     "execution_count": 22,
     "metadata": {},
     "output_type": "execute_result"
    }
   ],
   "source": [
    "%%sql\n",
    "\n",
    "SELECT\n",
    "    incident_year,\n",
    "    COUNT(*) AS incidents_per_year, \n",
    "    SUM(number_killed) AS number_killed_per_year,   \n",
    "    SUM(number_injured) AS number_injured_per_year  \n",
    "FROM \n",
    "    view_traffic_crash_all  \n",
    "GROUP BY \n",
    "    incident_year;"
   ]
  },
  {
   "cell_type": "markdown",
   "metadata": {},
   "source": [
    "#### **QUESTION #2: What is the annual average number of incidents, number killed and number injured? Exclude incidents in 2024 to a more accurate calcuation.**"
   ]
  },
  {
   "cell_type": "code",
   "execution_count": 23,
   "metadata": {},
   "outputs": [
    {
     "name": "stdout",
     "output_type": "stream",
     "text": [
      " * sqlite:///traffic_crash.db\n",
      "Done.\n"
     ]
    },
    {
     "data": {
      "text/html": [
       "<table>\n",
       "    <thead>\n",
       "        <tr>\n",
       "            <th>avg_incidents</th>\n",
       "            <th>avg_number_killed</th>\n",
       "            <th>avg_number_injured</th>\n",
       "        </tr>\n",
       "    </thead>\n",
       "    <tbody>\n",
       "        <tr>\n",
       "            <td>3068.0</td>\n",
       "            <td>29.0</td>\n",
       "            <td>3855.0</td>\n",
       "        </tr>\n",
       "    </tbody>\n",
       "</table>"
      ],
      "text/plain": [
       "[(3068.0, 29.0, 3855.0)]"
      ]
     },
     "execution_count": 23,
     "metadata": {},
     "output_type": "execute_result"
    }
   ],
   "source": [
    "%%sql\n",
    "\n",
    "SELECT\n",
    "    ROUND(AVG(incidents_per_year)) AS avg_incidents,\n",
    "    ROUND(AVG(number_killed_per_year)) AS avg_number_killed,\n",
    "    ROUND(AVG(number_injured_per_year)) AS avg_number_injured\n",
    "FROM(\n",
    "    SELECT\n",
    "        incident_year,\n",
    "        COUNT(*) AS incidents_per_year, \n",
    "        SUM(number_killed) AS number_killed_per_year,   \n",
    "        SUM(number_injured) AS number_injured_per_year  \n",
    "    FROM \n",
    "        view_traffic_crash_all\n",
    "    GROUP BY \n",
    "        incident_year);"
   ]
  },
  {
   "cell_type": "markdown",
   "metadata": {},
   "source": [
    "#### **QUESTION #3: Calculate the fraction of incidents for each unique crash grouping.**"
   ]
  },
  {
   "cell_type": "code",
   "execution_count": 24,
   "metadata": {},
   "outputs": [
    {
     "name": "stdout",
     "output_type": "stream",
     "text": [
      " * sqlite:///traffic_crash.db\n",
      "Done.\n"
     ]
    },
    {
     "data": {
      "text/html": [
       "<table>\n",
       "    <thead>\n",
       "        <tr>\n",
       "            <th>crash_description</th>\n",
       "            <th>incidents_fraction</th>\n",
       "        </tr>\n",
       "    </thead>\n",
       "    <tbody>\n",
       "        <tr>\n",
       "            <td>Vehicle(s) Only Involved</td>\n",
       "            <td>0.588</td>\n",
       "        </tr>\n",
       "        <tr>\n",
       "            <td>Vehicle-Pedestrian</td>\n",
       "            <td>0.243</td>\n",
       "        </tr>\n",
       "        <tr>\n",
       "            <td>Vehicle-Bicycle</td>\n",
       "            <td>0.135</td>\n",
       "        </tr>\n",
       "        <tr>\n",
       "            <td>Bicycle Only</td>\n",
       "            <td>0.018</td>\n",
       "        </tr>\n",
       "        <tr>\n",
       "            <td>Bicycle-Pedestrian</td>\n",
       "            <td>0.008</td>\n",
       "        </tr>\n",
       "        <tr>\n",
       "            <td>Bicycle-Parked Car</td>\n",
       "            <td>0.007</td>\n",
       "        </tr>\n",
       "        <tr>\n",
       "            <td>Pedestrian Only or Pedestrian-Parked Car</td>\n",
       "            <td>0.001</td>\n",
       "        </tr>\n",
       "        <tr>\n",
       "            <td>None</td>\n",
       "            <td>0.0</td>\n",
       "        </tr>\n",
       "        <tr>\n",
       "            <td>Bicycle-Unknown/Not Stated</td>\n",
       "            <td>0.0</td>\n",
       "        </tr>\n",
       "        <tr>\n",
       "            <td>Unknown/Not Stated</td>\n",
       "            <td>0.0</td>\n",
       "        </tr>\n",
       "        <tr>\n",
       "            <td>Vehicle-Bicycle-Pedestrian</td>\n",
       "            <td>0.0</td>\n",
       "        </tr>\n",
       "    </tbody>\n",
       "</table>"
      ],
      "text/plain": [
       "[('Vehicle(s) Only Involved', 0.588),\n",
       " ('Vehicle-Pedestrian', 0.243),\n",
       " ('Vehicle-Bicycle', 0.135),\n",
       " ('Bicycle Only', 0.018),\n",
       " ('Bicycle-Pedestrian', 0.008),\n",
       " ('Bicycle-Parked Car', 0.007),\n",
       " ('Pedestrian Only or Pedestrian-Parked Car', 0.001),\n",
       " (None, 0.0),\n",
       " ('Bicycle-Unknown/Not Stated', 0.0),\n",
       " ('Unknown/Not Stated', 0.0),\n",
       " ('Vehicle-Bicycle-Pedestrian', 0.0)]"
      ]
     },
     "execution_count": 24,
     "metadata": {},
     "output_type": "execute_result"
    }
   ],
   "source": [
    "%%sql\n",
    "\n",
    "WITH calculate_n_incidents AS (\n",
    "    SELECT COUNT(*) AS total_n_incidents\n",
    "    FROM view_traffic_crash_all\n",
    "),\n",
    "crash_grouping AS (\n",
    "    SELECT dph_col_grp_description AS crash_description, COUNT(*) AS n_incidents_per_group\n",
    "    FROM view_traffic_crash_all\n",
    "    GROUP BY dph_col_grp_description\n",
    ")\n",
    "SELECT \n",
    "    g.crash_description, \n",
    "    ROUND((g.n_incidents_per_group * 1.0)/c.total_n_incidents, 3) AS incidents_fraction\n",
    "FROM   \n",
    "    crash_grouping AS g, calculate_n_incidents AS c\n",
    "ORDER BY \n",
    "    incidents_fraction DESC;\n"
   ]
  },
  {
   "cell_type": "markdown",
   "metadata": {},
   "source": [
    "#### **QUESTION 4: What are the top ten streets (primary_rd) with the highest number of incidents?**"
   ]
  },
  {
   "cell_type": "code",
   "execution_count": 25,
   "metadata": {},
   "outputs": [
    {
     "name": "stdout",
     "output_type": "stream",
     "text": [
      " * sqlite:///traffic_crash.db\n",
      "Done.\n"
     ]
    },
    {
     "data": {
      "text/html": [
       "<table>\n",
       "    <thead>\n",
       "        <tr>\n",
       "            <th>primary_rd</th>\n",
       "            <th>n_incidents</th>\n",
       "        </tr>\n",
       "    </thead>\n",
       "    <tbody>\n",
       "        <tr>\n",
       "            <td>MISSION ST</td>\n",
       "            <td>2495</td>\n",
       "        </tr>\n",
       "        <tr>\n",
       "            <td>MARKET ST</td>\n",
       "            <td>2091</td>\n",
       "        </tr>\n",
       "        <tr>\n",
       "            <td>VAN NESS AVE</td>\n",
       "            <td>1436</td>\n",
       "        </tr>\n",
       "        <tr>\n",
       "            <td>GEARY BLVD</td>\n",
       "            <td>1134</td>\n",
       "        </tr>\n",
       "        <tr>\n",
       "            <td>03RD ST</td>\n",
       "            <td>1072</td>\n",
       "        </tr>\n",
       "        <tr>\n",
       "            <td>19TH AVE</td>\n",
       "            <td>868</td>\n",
       "        </tr>\n",
       "        <tr>\n",
       "            <td>FULTON ST</td>\n",
       "            <td>845</td>\n",
       "        </tr>\n",
       "        <tr>\n",
       "            <td>ALEMANY BLVD</td>\n",
       "            <td>843</td>\n",
       "        </tr>\n",
       "        <tr>\n",
       "            <td>CALIFORNIA ST</td>\n",
       "            <td>823</td>\n",
       "        </tr>\n",
       "        <tr>\n",
       "            <td>FOLSOM ST</td>\n",
       "            <td>791</td>\n",
       "        </tr>\n",
       "    </tbody>\n",
       "</table>"
      ],
      "text/plain": [
       "[('MISSION ST', 2495),\n",
       " ('MARKET ST', 2091),\n",
       " ('VAN NESS AVE', 1436),\n",
       " ('GEARY BLVD', 1134),\n",
       " ('03RD ST', 1072),\n",
       " ('19TH AVE', 868),\n",
       " ('FULTON ST', 845),\n",
       " ('ALEMANY BLVD', 843),\n",
       " ('CALIFORNIA ST', 823),\n",
       " ('FOLSOM ST', 791)]"
      ]
     },
     "execution_count": 25,
     "metadata": {},
     "output_type": "execute_result"
    }
   ],
   "source": [
    "%%sql  \n",
    "\n",
    "SELECT \n",
    "    primary_rd, \n",
    "    COUNT (*) AS n_incidents    \n",
    "FROM \n",
    "    view_traffic_crash_all  \n",
    "GROUP BY \n",
    "    primary_rd \n",
    "ORDER BY \n",
    "    n_incidents DESC   \n",
    "LIMIT 10;"
   ]
  },
  {
   "cell_type": "markdown",
   "metadata": {},
   "source": [
    "#### **QUESTION #5: Given that streets can span long distances and the primary_rd may not precisely locate incidents, we use the secondary_rd for better accuracy. What are the top ten streets (primary_rd and secondary_rd) with the highest number of incidents? The secondary_rd serves as a reference road from which distance and direct are measured.**"
   ]
  },
  {
   "cell_type": "code",
   "execution_count": 26,
   "metadata": {},
   "outputs": [
    {
     "name": "stdout",
     "output_type": "stream",
     "text": [
      " * sqlite:///traffic_crash.db\n",
      "Done.\n"
     ]
    },
    {
     "data": {
      "text/html": [
       "<table>\n",
       "    <thead>\n",
       "        <tr>\n",
       "            <th>primary_rd</th>\n",
       "            <th>secondary_rd</th>\n",
       "            <th>n_incidents</th>\n",
       "        </tr>\n",
       "    </thead>\n",
       "    <tbody>\n",
       "        <tr>\n",
       "            <td>MARKET ST</td>\n",
       "            <td>05TH ST</td>\n",
       "            <td>128</td>\n",
       "        </tr>\n",
       "        <tr>\n",
       "            <td>MARKET ST</td>\n",
       "            <td>OCTAVIA ST</td>\n",
       "            <td>113</td>\n",
       "        </tr>\n",
       "        <tr>\n",
       "            <td>MARKET ST</td>\n",
       "            <td>07TH ST</td>\n",
       "            <td>100</td>\n",
       "        </tr>\n",
       "        <tr>\n",
       "            <td>MARKET ST</td>\n",
       "            <td>GOUGH ST</td>\n",
       "            <td>97</td>\n",
       "        </tr>\n",
       "        <tr>\n",
       "            <td>JUNIPERO SERRA BLVD</td>\n",
       "            <td>19TH AVE</td>\n",
       "            <td>91</td>\n",
       "        </tr>\n",
       "        <tr>\n",
       "            <td>THE EMBARCADERO</td>\n",
       "            <td>WASHINGTON ST</td>\n",
       "            <td>91</td>\n",
       "        </tr>\n",
       "        <tr>\n",
       "            <td>VAN NESS AVE</td>\n",
       "            <td>HAYES ST</td>\n",
       "            <td>91</td>\n",
       "        </tr>\n",
       "        <tr>\n",
       "            <td>16TH ST</td>\n",
       "            <td>POTRERO AVE</td>\n",
       "            <td>80</td>\n",
       "        </tr>\n",
       "        <tr>\n",
       "            <td>UNABLE TO GEOCODE</td>\n",
       "            <td>None</td>\n",
       "            <td>78</td>\n",
       "        </tr>\n",
       "        <tr>\n",
       "            <td>MARKET ST</td>\n",
       "            <td>08TH ST</td>\n",
       "            <td>76</td>\n",
       "        </tr>\n",
       "    </tbody>\n",
       "</table>"
      ],
      "text/plain": [
       "[('MARKET ST', '05TH ST', 128),\n",
       " ('MARKET ST', 'OCTAVIA ST', 113),\n",
       " ('MARKET ST', '07TH ST', 100),\n",
       " ('MARKET ST', 'GOUGH ST', 97),\n",
       " ('JUNIPERO SERRA BLVD', '19TH AVE', 91),\n",
       " ('THE EMBARCADERO', 'WASHINGTON ST', 91),\n",
       " ('VAN NESS AVE', 'HAYES ST', 91),\n",
       " ('16TH ST', 'POTRERO AVE', 80),\n",
       " ('UNABLE TO GEOCODE', None, 78),\n",
       " ('MARKET ST', '08TH ST', 76)]"
      ]
     },
     "execution_count": 26,
     "metadata": {},
     "output_type": "execute_result"
    }
   ],
   "source": [
    "%%sql\n",
    "\n",
    "SELECT \n",
    "    primary_rd, \n",
    "    secondary_rd,   \n",
    "    COUNT (*) AS n_incidents    \n",
    "FROM \n",
    "    view_traffic_crash_all  \n",
    "GROUP BY    \n",
    "    primary_rd, \n",
    "    secondary_rd    \n",
    "ORDER BY \n",
    "    n_incidents DESC   \n",
    "LIMIT 10;\n"
   ]
  },
  {
   "cell_type": "markdown",
   "metadata": {},
   "source": [
    "#### **QUESTION #6: Which road surface condition (e.g. wet, dry) has the highest number of incidents?**"
   ]
  },
  {
   "cell_type": "code",
   "execution_count": 27,
   "metadata": {},
   "outputs": [
    {
     "name": "stdout",
     "output_type": "stream",
     "text": [
      " * sqlite:///traffic_crash.db\n",
      "Done.\n"
     ]
    },
    {
     "data": {
      "text/html": [
       "<table>\n",
       "    <thead>\n",
       "        <tr>\n",
       "            <th>road_surface</th>\n",
       "            <th>max_n_incidents</th>\n",
       "        </tr>\n",
       "    </thead>\n",
       "    <tbody>\n",
       "        <tr>\n",
       "            <td>Dry</td>\n",
       "            <td>51260</td>\n",
       "        </tr>\n",
       "    </tbody>\n",
       "</table>"
      ],
      "text/plain": [
       "[('Dry', 51260)]"
      ]
     },
     "execution_count": 27,
     "metadata": {},
     "output_type": "execute_result"
    }
   ],
   "source": [
    "%%sql\n",
    "\n",
    "WITH road_surface_cte AS (\n",
    "    SELECT \n",
    "        road_surface,\n",
    "        COUNT(*) AS n_incidents\n",
    "    FROM \n",
    "        view_traffic_crash_all  \n",
    "    GROUP BY \n",
    "        road_surface\n",
    ")\n",
    "SELECT \n",
    "    road_surface,\n",
    "    MAX(n_incidents) AS max_n_incidents \n",
    "FROM \n",
    "    road_surface_cte\n",
    "ORDER BY \n",
    "    n_incidents DESC;\n",
    "\n"
   ]
  },
  {
   "cell_type": "markdown",
   "metadata": {},
   "source": [
    "#### **QUESTION #7: Determine the number of incidents for each hour of the day.**"
   ]
  },
  {
   "cell_type": "code",
   "execution_count": 28,
   "metadata": {},
   "outputs": [
    {
     "name": "stdout",
     "output_type": "stream",
     "text": [
      " * sqlite:///traffic_crash.db\n",
      "Done.\n"
     ]
    },
    {
     "data": {
      "text/html": [
       "<table>\n",
       "    <thead>\n",
       "        <tr>\n",
       "            <th>hour</th>\n",
       "            <th>n_incidents</th>\n",
       "        </tr>\n",
       "    </thead>\n",
       "    <tbody>\n",
       "        <tr>\n",
       "            <td>None</td>\n",
       "            <td>58</td>\n",
       "        </tr>\n",
       "        <tr>\n",
       "            <td>00</td>\n",
       "            <td>1234</td>\n",
       "        </tr>\n",
       "        <tr>\n",
       "            <td>01</td>\n",
       "            <td>1159</td>\n",
       "        </tr>\n",
       "        <tr>\n",
       "            <td>02</td>\n",
       "            <td>1195</td>\n",
       "        </tr>\n",
       "        <tr>\n",
       "            <td>03</td>\n",
       "            <td>563</td>\n",
       "        </tr>\n",
       "        <tr>\n",
       "            <td>04</td>\n",
       "            <td>417</td>\n",
       "        </tr>\n",
       "        <tr>\n",
       "            <td>05</td>\n",
       "            <td>574</td>\n",
       "        </tr>\n",
       "        <tr>\n",
       "            <td>06</td>\n",
       "            <td>1159</td>\n",
       "        </tr>\n",
       "        <tr>\n",
       "            <td>07</td>\n",
       "            <td>2194</td>\n",
       "        </tr>\n",
       "        <tr>\n",
       "            <td>08</td>\n",
       "            <td>3277</td>\n",
       "        </tr>\n",
       "        <tr>\n",
       "            <td>09</td>\n",
       "            <td>3093</td>\n",
       "        </tr>\n",
       "        <tr>\n",
       "            <td>10</td>\n",
       "            <td>2669</td>\n",
       "        </tr>\n",
       "        <tr>\n",
       "            <td>11</td>\n",
       "            <td>2909</td>\n",
       "        </tr>\n",
       "        <tr>\n",
       "            <td>12</td>\n",
       "            <td>3073</td>\n",
       "        </tr>\n",
       "        <tr>\n",
       "            <td>13</td>\n",
       "            <td>3258</td>\n",
       "        </tr>\n",
       "        <tr>\n",
       "            <td>14</td>\n",
       "            <td>3479</td>\n",
       "        </tr>\n",
       "        <tr>\n",
       "            <td>15</td>\n",
       "            <td>3746</td>\n",
       "        </tr>\n",
       "        <tr>\n",
       "            <td>16</td>\n",
       "            <td>3961</td>\n",
       "        </tr>\n",
       "        <tr>\n",
       "            <td>17</td>\n",
       "            <td>4338</td>\n",
       "        </tr>\n",
       "        <tr>\n",
       "            <td>18</td>\n",
       "            <td>4160</td>\n",
       "        </tr>\n",
       "        <tr>\n",
       "            <td>19</td>\n",
       "            <td>3032</td>\n",
       "        </tr>\n",
       "        <tr>\n",
       "            <td>20</td>\n",
       "            <td>2513</td>\n",
       "        </tr>\n",
       "        <tr>\n",
       "            <td>21</td>\n",
       "            <td>2352</td>\n",
       "        </tr>\n",
       "        <tr>\n",
       "            <td>22</td>\n",
       "            <td>2137</td>\n",
       "        </tr>\n",
       "        <tr>\n",
       "            <td>23</td>\n",
       "            <td>1734</td>\n",
       "        </tr>\n",
       "    </tbody>\n",
       "</table>"
      ],
      "text/plain": [
       "[(None, 58),\n",
       " ('00', 1234),\n",
       " ('01', 1159),\n",
       " ('02', 1195),\n",
       " ('03', 563),\n",
       " ('04', 417),\n",
       " ('05', 574),\n",
       " ('06', 1159),\n",
       " ('07', 2194),\n",
       " ('08', 3277),\n",
       " ('09', 3093),\n",
       " ('10', 2669),\n",
       " ('11', 2909),\n",
       " ('12', 3073),\n",
       " ('13', 3258),\n",
       " ('14', 3479),\n",
       " ('15', 3746),\n",
       " ('16', 3961),\n",
       " ('17', 4338),\n",
       " ('18', 4160),\n",
       " ('19', 3032),\n",
       " ('20', 2513),\n",
       " ('21', 2352),\n",
       " ('22', 2137),\n",
       " ('23', 1734)]"
      ]
     },
     "execution_count": 28,
     "metadata": {},
     "output_type": "execute_result"
    }
   ],
   "source": [
    "%%sql\n",
    "\n",
    "SELECT \n",
    "    strftime('%H', collision_time ) AS hour,\n",
    "    COUNT(*) AS n_incidents\n",
    "FROM \n",
    "    view_traffic_crash_all\n",
    "GROUP BY \n",
    "    hour\n",
    "ORDER BY \n",
    "    hour;\n"
   ]
  },
  {
   "cell_type": "markdown",
   "metadata": {},
   "source": [
    "#### **QUESTION #8: Which lighting condition has the most incidents?**"
   ]
  },
  {
   "cell_type": "code",
   "execution_count": 29,
   "metadata": {},
   "outputs": [
    {
     "name": "stdout",
     "output_type": "stream",
     "text": [
      " * sqlite:///traffic_crash.db\n",
      "Done.\n"
     ]
    },
    {
     "data": {
      "text/html": [
       "<table>\n",
       "    <thead>\n",
       "        <tr>\n",
       "            <th>lighting</th>\n",
       "            <th>n_incidents</th>\n",
       "        </tr>\n",
       "    </thead>\n",
       "    <tbody>\n",
       "        <tr>\n",
       "            <td>Daylight</td>\n",
       "            <td>37681</td>\n",
       "        </tr>\n",
       "        <tr>\n",
       "            <td>Dark - Street Lights</td>\n",
       "            <td>17470</td>\n",
       "        </tr>\n",
       "        <tr>\n",
       "            <td>Dusk - Dawn</td>\n",
       "            <td>2029</td>\n",
       "        </tr>\n",
       "        <tr>\n",
       "            <td>Not Stated</td>\n",
       "            <td>582</td>\n",
       "        </tr>\n",
       "        <tr>\n",
       "            <td>Dark - No Street Lights</td>\n",
       "            <td>418</td>\n",
       "        </tr>\n",
       "        <tr>\n",
       "            <td>Dark - Street Lights Not Functioning</td>\n",
       "            <td>104</td>\n",
       "        </tr>\n",
       "    </tbody>\n",
       "</table>"
      ],
      "text/plain": [
       "[('Daylight', 37681),\n",
       " ('Dark - Street Lights', 17470),\n",
       " ('Dusk - Dawn', 2029),\n",
       " ('Not Stated', 582),\n",
       " ('Dark - No Street Lights', 418),\n",
       " ('Dark - Street Lights Not Functioning', 104)]"
      ]
     },
     "execution_count": 29,
     "metadata": {},
     "output_type": "execute_result"
    }
   ],
   "source": [
    "%%sql\n",
    "\n",
    "SELECT\n",
    "    lighting,\n",
    "    COUNT(*) as n_incidents\n",
    "FROM \n",
    "    view_traffic_crash_all\n",
    "GROUP BY\n",
    "    lighting\n",
    "ORDER BY\n",
    "    n_incidents DESC;\n"
   ]
  },
  {
   "cell_type": "markdown",
   "metadata": {},
   "source": [
    "#### **QUESTION #9: What is the average number of people who are injured?**"
   ]
  },
  {
   "cell_type": "code",
   "execution_count": 30,
   "metadata": {},
   "outputs": [
    {
     "name": "stdout",
     "output_type": "stream",
     "text": [
      " * sqlite:///traffic_crash.db\n",
      "Done.\n"
     ]
    },
    {
     "data": {
      "text/html": [
       "<table>\n",
       "    <thead>\n",
       "        <tr>\n",
       "            <th>avg_n_injured</th>\n",
       "        </tr>\n",
       "    </thead>\n",
       "    <tbody>\n",
       "        <tr>\n",
       "            <td>1.0</td>\n",
       "        </tr>\n",
       "    </tbody>\n",
       "</table>"
      ],
      "text/plain": [
       "[(1.0,)]"
      ]
     },
     "execution_count": 30,
     "metadata": {},
     "output_type": "execute_result"
    }
   ],
   "source": [
    "%%sql\n",
    "\n",
    "SELECT\n",
    "    ROUND(AVG(number_injured), 0) AS avg_n_injured\n",
    "FROM \n",
    "    view_traffic_crash_all;\n"
   ]
  },
  {
   "cell_type": "markdown",
   "metadata": {},
   "source": [
    "#### **QUESTION #10: Show the incidents where number_injured >1 and number_killed is >0.**"
   ]
  },
  {
   "cell_type": "code",
   "execution_count": 31,
   "metadata": {},
   "outputs": [
    {
     "name": "stdout",
     "output_type": "stream",
     "text": [
      " * sqlite:///traffic_crash.db\n",
      "Done.\n"
     ]
    },
    {
     "data": {
      "text/html": [
       "<table>\n",
       "    <thead>\n",
       "        <tr>\n",
       "            <th>case_id_pkey</th>\n",
       "            <th>number_injured</th>\n",
       "            <th>number_killed</th>\n",
       "        </tr>\n",
       "    </thead>\n",
       "    <tbody>\n",
       "        <tr>\n",
       "            <td>131098641</td>\n",
       "            <td>2</td>\n",
       "            <td>1.0</td>\n",
       "        </tr>\n",
       "        <tr>\n",
       "            <td>3400212</td>\n",
       "            <td>2</td>\n",
       "            <td>1.0</td>\n",
       "        </tr>\n",
       "        <tr>\n",
       "            <td>190528318</td>\n",
       "            <td>4</td>\n",
       "            <td>1.0</td>\n",
       "        </tr>\n",
       "        <tr>\n",
       "            <td>5542002</td>\n",
       "            <td>7</td>\n",
       "            <td>1.0</td>\n",
       "        </tr>\n",
       "        <tr>\n",
       "            <td>3523326</td>\n",
       "            <td>2</td>\n",
       "            <td>2.0</td>\n",
       "        </tr>\n",
       "        <tr>\n",
       "            <td>220731586</td>\n",
       "            <td>3</td>\n",
       "            <td>1.0</td>\n",
       "        </tr>\n",
       "        <tr>\n",
       "            <td>3205271</td>\n",
       "            <td>2</td>\n",
       "            <td>1.0</td>\n",
       "        </tr>\n",
       "        <tr>\n",
       "            <td>2841564</td>\n",
       "            <td>2</td>\n",
       "            <td>1.0</td>\n",
       "        </tr>\n",
       "        <tr>\n",
       "            <td>160410228</td>\n",
       "            <td>3</td>\n",
       "            <td>1.0</td>\n",
       "        </tr>\n",
       "        <tr>\n",
       "            <td>3205255</td>\n",
       "            <td>2</td>\n",
       "            <td>1.0</td>\n",
       "        </tr>\n",
       "        <tr>\n",
       "            <td>160253880</td>\n",
       "            <td>3</td>\n",
       "            <td>1.0</td>\n",
       "        </tr>\n",
       "        <tr>\n",
       "            <td>180477587</td>\n",
       "            <td>3</td>\n",
       "            <td>1.0</td>\n",
       "        </tr>\n",
       "        <tr>\n",
       "            <td>2763485</td>\n",
       "            <td>2</td>\n",
       "            <td>1.0</td>\n",
       "        </tr>\n",
       "        <tr>\n",
       "            <td>2920529</td>\n",
       "            <td>3</td>\n",
       "            <td>1.0</td>\n",
       "        </tr>\n",
       "        <tr>\n",
       "            <td>4926295</td>\n",
       "            <td>3</td>\n",
       "            <td>2.0</td>\n",
       "        </tr>\n",
       "        <tr>\n",
       "            <td>9022693</td>\n",
       "            <td>4</td>\n",
       "            <td>1.0</td>\n",
       "        </tr>\n",
       "        <tr>\n",
       "            <td>2343048</td>\n",
       "            <td>3</td>\n",
       "            <td>1.0</td>\n",
       "        </tr>\n",
       "        <tr>\n",
       "            <td>131065402</td>\n",
       "            <td>2</td>\n",
       "            <td>1.0</td>\n",
       "        </tr>\n",
       "        <tr>\n",
       "            <td>160976537</td>\n",
       "            <td>4</td>\n",
       "            <td>1.0</td>\n",
       "        </tr>\n",
       "        <tr>\n",
       "            <td>210689230</td>\n",
       "            <td>2</td>\n",
       "            <td>1.0</td>\n",
       "        </tr>\n",
       "        <tr>\n",
       "            <td>160344304</td>\n",
       "            <td>2</td>\n",
       "            <td>1.0</td>\n",
       "        </tr>\n",
       "        <tr>\n",
       "            <td>2237437</td>\n",
       "            <td>2</td>\n",
       "            <td>1.0</td>\n",
       "        </tr>\n",
       "        <tr>\n",
       "            <td>190455222</td>\n",
       "            <td>2</td>\n",
       "            <td>1.0</td>\n",
       "        </tr>\n",
       "        <tr>\n",
       "            <td>190452892</td>\n",
       "            <td>2</td>\n",
       "            <td>2.0</td>\n",
       "        </tr>\n",
       "        <tr>\n",
       "            <td>190752012</td>\n",
       "            <td>2</td>\n",
       "            <td>1.0</td>\n",
       "        </tr>\n",
       "        <tr>\n",
       "            <td>3398467</td>\n",
       "            <td>2</td>\n",
       "            <td>1.0</td>\n",
       "        </tr>\n",
       "        <tr>\n",
       "            <td>3400196</td>\n",
       "            <td>3</td>\n",
       "            <td>1.0</td>\n",
       "        </tr>\n",
       "        <tr>\n",
       "            <td>210306199</td>\n",
       "            <td>5</td>\n",
       "            <td>1.0</td>\n",
       "        </tr>\n",
       "        <tr>\n",
       "            <td>190772474</td>\n",
       "            <td>2</td>\n",
       "            <td>1.0</td>\n",
       "        </tr>\n",
       "        <tr>\n",
       "            <td>2963904</td>\n",
       "            <td>3</td>\n",
       "            <td>1.0</td>\n",
       "        </tr>\n",
       "        <tr>\n",
       "            <td>200491421</td>\n",
       "            <td>8</td>\n",
       "            <td>1.0</td>\n",
       "        </tr>\n",
       "        <tr>\n",
       "            <td>220389016</td>\n",
       "            <td>2</td>\n",
       "            <td>1.0</td>\n",
       "        </tr>\n",
       "        <tr>\n",
       "            <td>2343056</td>\n",
       "            <td>3</td>\n",
       "            <td>2.0</td>\n",
       "        </tr>\n",
       "        <tr>\n",
       "            <td>220536819</td>\n",
       "            <td>2</td>\n",
       "            <td>1.0</td>\n",
       "        </tr>\n",
       "        <tr>\n",
       "            <td>150574561</td>\n",
       "            <td>2</td>\n",
       "            <td>1.0</td>\n",
       "        </tr>\n",
       "        <tr>\n",
       "            <td>3774550</td>\n",
       "            <td>2</td>\n",
       "            <td>1.0</td>\n",
       "        </tr>\n",
       "        <tr>\n",
       "            <td>140627863</td>\n",
       "            <td>6</td>\n",
       "            <td>1.0</td>\n",
       "        </tr>\n",
       "        <tr>\n",
       "            <td>150029839</td>\n",
       "            <td>2</td>\n",
       "            <td>1.0</td>\n",
       "        </tr>\n",
       "        <tr>\n",
       "            <td>130000978</td>\n",
       "            <td>2</td>\n",
       "            <td>2.0</td>\n",
       "        </tr>\n",
       "        <tr>\n",
       "            <td>130814133</td>\n",
       "            <td>6</td>\n",
       "            <td>1.0</td>\n",
       "        </tr>\n",
       "        <tr>\n",
       "            <td>4990925</td>\n",
       "            <td>4</td>\n",
       "            <td>1.0</td>\n",
       "        </tr>\n",
       "        <tr>\n",
       "            <td>4660538</td>\n",
       "            <td>2</td>\n",
       "            <td>1.0</td>\n",
       "        </tr>\n",
       "        <tr>\n",
       "            <td>4392050</td>\n",
       "            <td>2</td>\n",
       "            <td>1.0</td>\n",
       "        </tr>\n",
       "        <tr>\n",
       "            <td>4926075</td>\n",
       "            <td>2</td>\n",
       "            <td>1.0</td>\n",
       "        </tr>\n",
       "        <tr>\n",
       "            <td>4660759</td>\n",
       "            <td>2</td>\n",
       "            <td>1.0</td>\n",
       "        </tr>\n",
       "        <tr>\n",
       "            <td>4926074</td>\n",
       "            <td>3</td>\n",
       "            <td>1.0</td>\n",
       "        </tr>\n",
       "        <tr>\n",
       "            <td>5910262</td>\n",
       "            <td>4</td>\n",
       "            <td>1.0</td>\n",
       "        </tr>\n",
       "        <tr>\n",
       "            <td>230050348</td>\n",
       "            <td>2</td>\n",
       "            <td>1.0</td>\n",
       "        </tr>\n",
       "        <tr>\n",
       "            <td>230355154</td>\n",
       "            <td>4</td>\n",
       "            <td>1.0</td>\n",
       "        </tr>\n",
       "        <tr>\n",
       "            <td>5291112</td>\n",
       "            <td>4</td>\n",
       "            <td>1.0</td>\n",
       "        </tr>\n",
       "        <tr>\n",
       "            <td>5910245</td>\n",
       "            <td>3</td>\n",
       "            <td>1.0</td>\n",
       "        </tr>\n",
       "        <tr>\n",
       "            <td>210078605</td>\n",
       "            <td>4</td>\n",
       "            <td>1.0</td>\n",
       "        </tr>\n",
       "        <tr>\n",
       "            <td>210517142</td>\n",
       "            <td>2</td>\n",
       "            <td>1.0</td>\n",
       "        </tr>\n",
       "    </tbody>\n",
       "</table>"
      ],
      "text/plain": [
       "[('131098641', 2, 1.0),\n",
       " ('3400212', 2, 1.0),\n",
       " ('190528318', 4, 1.0),\n",
       " ('5542002', 7, 1.0),\n",
       " ('3523326', 2, 2.0),\n",
       " ('220731586', 3, 1.0),\n",
       " ('3205271', 2, 1.0),\n",
       " ('2841564', 2, 1.0),\n",
       " ('160410228', 3, 1.0),\n",
       " ('3205255', 2, 1.0),\n",
       " ('160253880', 3, 1.0),\n",
       " ('180477587', 3, 1.0),\n",
       " ('2763485', 2, 1.0),\n",
       " ('2920529', 3, 1.0),\n",
       " ('4926295', 3, 2.0),\n",
       " ('9022693', 4, 1.0),\n",
       " ('2343048', 3, 1.0),\n",
       " ('131065402', 2, 1.0),\n",
       " ('160976537', 4, 1.0),\n",
       " ('210689230', 2, 1.0),\n",
       " ('160344304', 2, 1.0),\n",
       " ('2237437', 2, 1.0),\n",
       " ('190455222', 2, 1.0),\n",
       " ('190452892', 2, 2.0),\n",
       " ('190752012', 2, 1.0),\n",
       " ('3398467', 2, 1.0),\n",
       " ('3400196', 3, 1.0),\n",
       " ('210306199', 5, 1.0),\n",
       " ('190772474', 2, 1.0),\n",
       " ('2963904', 3, 1.0),\n",
       " ('200491421', 8, 1.0),\n",
       " ('220389016', 2, 1.0),\n",
       " ('2343056', 3, 2.0),\n",
       " ('220536819', 2, 1.0),\n",
       " ('150574561', 2, 1.0),\n",
       " ('3774550', 2, 1.0),\n",
       " ('140627863', 6, 1.0),\n",
       " ('150029839', 2, 1.0),\n",
       " ('130000978', 2, 2.0),\n",
       " ('130814133', 6, 1.0),\n",
       " ('4990925', 4, 1.0),\n",
       " ('4660538', 2, 1.0),\n",
       " ('4392050', 2, 1.0),\n",
       " ('4926075', 2, 1.0),\n",
       " ('4660759', 2, 1.0),\n",
       " ('4926074', 3, 1.0),\n",
       " ('5910262', 4, 1.0),\n",
       " ('230050348', 2, 1.0),\n",
       " ('230355154', 4, 1.0),\n",
       " ('5291112', 4, 1.0),\n",
       " ('5910245', 3, 1.0),\n",
       " ('210078605', 4, 1.0),\n",
       " ('210517142', 2, 1.0)]"
      ]
     },
     "execution_count": 31,
     "metadata": {},
     "output_type": "execute_result"
    }
   ],
   "source": [
    "%%sql\n",
    "\n",
    "SELECT \n",
    "    case_id_pkey,\n",
    "    number_injured,\n",
    "    number_killed\n",
    "FROM \n",
    "    view_traffic_crash_all\n",
    "WHERE \n",
    "    number_injured > 1 AND number_killed > 0;"
   ]
  },
  {
   "cell_type": "markdown",
   "metadata": {},
   "source": [
    "#### **QUESTION #11: For the incidents that included deaths, output the incidents where the number of deaths >= 2.**"
   ]
  },
  {
   "cell_type": "code",
   "execution_count": 32,
   "metadata": {},
   "outputs": [
    {
     "name": "stdout",
     "output_type": "stream",
     "text": [
      " * sqlite:///traffic_crash.db\n",
      "Done.\n"
     ]
    },
    {
     "data": {
      "text/html": [
       "<table>\n",
       "    <thead>\n",
       "        <tr>\n",
       "            <th>unique_id</th>\n",
       "            <th>number_killed</th>\n",
       "        </tr>\n",
       "    </thead>\n",
       "    <tbody>\n",
       "        <tr>\n",
       "            <td>53747</td>\n",
       "            <td>2.0</td>\n",
       "        </tr>\n",
       "        <tr>\n",
       "            <td>36735</td>\n",
       "            <td>3.0</td>\n",
       "        </tr>\n",
       "    </tbody>\n",
       "</table>"
      ],
      "text/plain": [
       "[(53747, 2.0), (36735, 3.0)]"
      ]
     },
     "execution_count": 32,
     "metadata": {},
     "output_type": "execute_result"
    }
   ],
   "source": [
    "%%sql\n",
    "\n",
    "SELECT \n",
    "    unique_id, \n",
    "    number_killed\n",
    "FROM\n",
    "    view_traffic_crash_all\n",
    "WHERE \n",
    "    number_killed > 0\n",
    "GROUP BY \n",
    "    number_killed\n",
    "HAVING \n",
    "    number_killed >= 2;"
   ]
  },
  {
   "cell_type": "markdown",
   "metadata": {},
   "source": [
    "#### **QUESTION #12: Are there more male or female victims? Output the sex with the most number of injured people and the number of incidents.**"
   ]
  },
  {
   "cell_type": "code",
   "execution_count": 66,
   "metadata": {},
   "outputs": [
    {
     "name": "stdout",
     "output_type": "stream",
     "text": [
      " * sqlite:///traffic_crash.db\n",
      "Done.\n"
     ]
    },
    {
     "data": {
      "text/html": [
       "<table>\n",
       "    <thead>\n",
       "        <tr>\n",
       "            <th>party_sex</th>\n",
       "            <th>n_injured</th>\n",
       "        </tr>\n",
       "    </thead>\n",
       "    <tbody>\n",
       "        <tr>\n",
       "            <td>Male</td>\n",
       "            <td>46583</td>\n",
       "        </tr>\n",
       "        <tr>\n",
       "            <td>Female</td>\n",
       "            <td>26530</td>\n",
       "        </tr>\n",
       "        <tr>\n",
       "            <td>Not Stated</td>\n",
       "            <td>1053</td>\n",
       "        </tr>\n",
       "        <tr>\n",
       "            <td>Other</td>\n",
       "            <td>36</td>\n",
       "        </tr>\n",
       "    </tbody>\n",
       "</table>"
      ],
      "text/plain": [
       "[('Male', 46583), ('Female', 26530), ('Not Stated', 1053), ('Other', 36)]"
      ]
     },
     "execution_count": 66,
     "metadata": {},
     "output_type": "execute_result"
    }
   ],
   "source": [
    "%%sql \n",
    "\n",
    "SELECT \n",
    "    party_sex, \n",
    "    COUNT(*) AS n_injured\n",
    "FROM \n",
    "    traffic_crash_victims\n",
    "WHERE\n",
    "    CAST(SUBSTR(collision_date, 7, 4) AS INTEGER) < 2024\n",
    "GROUP BY \n",
    "    party_sex\n",
    "ORDER BY\n",
    "    n_injured DESC;"
   ]
  },
  {
   "cell_type": "code",
   "execution_count": 68,
   "metadata": {},
   "outputs": [
    {
     "name": "stdout",
     "output_type": "stream",
     "text": [
      " * sqlite:///traffic_crash.db\n",
      "Done.\n"
     ]
    },
    {
     "data": {
      "text/html": [
       "<table>\n",
       "    <thead>\n",
       "        <tr>\n",
       "            <th>party_sex</th>\n",
       "            <th>max_injured</th>\n",
       "        </tr>\n",
       "    </thead>\n",
       "    <tbody>\n",
       "        <tr>\n",
       "            <td>Male</td>\n",
       "            <td>46583</td>\n",
       "        </tr>\n",
       "    </tbody>\n",
       "</table>"
      ],
      "text/plain": [
       "[('Male', 46583)]"
      ]
     },
     "execution_count": 68,
     "metadata": {},
     "output_type": "execute_result"
    }
   ],
   "source": [
    "%%sql\n",
    "\n",
    "SELECT\n",
    "    party_sex, \n",
    "    MAX(n_injured) AS max_injured \n",
    "FROM\n",
    "    (SELECT party_sex, COUNT(*) AS n_injured\n",
    "    FROM traffic_crash_victims\n",
    "    WHERE CAST(SUBSTR(collision_date, 7, 4) AS INTEGER) < 2024\n",
    "    GROUP BY party_sex);"
   ]
  },
  {
   "cell_type": "markdown",
   "metadata": {},
   "source": [
    "#### **QUESTION #13: Are males or females more likely to be at fault?**"
   ]
  },
  {
   "cell_type": "code",
   "execution_count": 85,
   "metadata": {},
   "outputs": [
    {
     "name": "stdout",
     "output_type": "stream",
     "text": [
      " * sqlite:///traffic_crash.db\n",
      "Done.\n"
     ]
    },
    {
     "data": {
      "text/html": [
       "<table>\n",
       "    <thead>\n",
       "        <tr>\n",
       "            <th>party_sex</th>\n",
       "            <th>n_at_fault</th>\n",
       "        </tr>\n",
       "    </thead>\n",
       "    <tbody>\n",
       "        <tr>\n",
       "            <td>Male</td>\n",
       "            <td>15411</td>\n",
       "        </tr>\n",
       "        <tr>\n",
       "            <td>Female</td>\n",
       "            <td>7508</td>\n",
       "        </tr>\n",
       "        <tr>\n",
       "            <td>Not Stated</td>\n",
       "            <td>225</td>\n",
       "        </tr>\n",
       "        <tr>\n",
       "            <td>Other</td>\n",
       "            <td>21</td>\n",
       "        </tr>\n",
       "    </tbody>\n",
       "</table>"
      ],
      "text/plain": [
       "[('Male', 15411), ('Female', 7508), ('Not Stated', 225), ('Other', 21)]"
      ]
     },
     "execution_count": 85,
     "metadata": {},
     "output_type": "execute_result"
    }
   ],
   "source": [
    "%%sql\n",
    "\n",
    "SELECT\n",
    "    party_sex, \n",
    "    COUNT(*) AS n_at_fault\n",
    "FROM \n",
    "    (SELECT DISTINCT case_id_pkey, party_sex \n",
    "     FROM traffic_crash_victims\n",
    "     WHERE at_fault = 'Yes' \n",
    "     AND CAST(SUBSTR(collision_date, 7, 4) AS INTEGER) < 2024\n",
    "    ) AS distinct_parties\n",
    "GROUP BY \n",
    "    party_sex\n",
    "ORDER BY \n",
    "    n_at_fault DESC;\n"
   ]
  },
  {
   "cell_type": "markdown",
   "metadata": {},
   "source": [
    "#### **QUESTION #14: What are the different types of collisions? Rank them according to the number of incidents.**"
   ]
  },
  {
   "cell_type": "code",
   "execution_count": 70,
   "metadata": {},
   "outputs": [
    {
     "name": "stdout",
     "output_type": "stream",
     "text": [
      " * sqlite:///traffic_crash.db\n",
      "Done.\n"
     ]
    },
    {
     "data": {
      "text/html": [
       "<table>\n",
       "    <thead>\n",
       "        <tr>\n",
       "            <th>type_of_collision</th>\n",
       "            <th>n_incidents</th>\n",
       "            <th>rank</th>\n",
       "        </tr>\n",
       "    </thead>\n",
       "    <tbody>\n",
       "        <tr>\n",
       "            <td>Broadside</td>\n",
       "            <td>17806</td>\n",
       "            <td>1</td>\n",
       "        </tr>\n",
       "        <tr>\n",
       "            <td>Vehicle/Pedestrian</td>\n",
       "            <td>12315</td>\n",
       "            <td>2</td>\n",
       "        </tr>\n",
       "        <tr>\n",
       "            <td>Rear End</td>\n",
       "            <td>9467</td>\n",
       "            <td>3</td>\n",
       "        </tr>\n",
       "        <tr>\n",
       "            <td>Sideswipe</td>\n",
       "            <td>7582</td>\n",
       "            <td>4</td>\n",
       "        </tr>\n",
       "        <tr>\n",
       "            <td>Head-On</td>\n",
       "            <td>3448</td>\n",
       "            <td>5</td>\n",
       "        </tr>\n",
       "        <tr>\n",
       "            <td>Other</td>\n",
       "            <td>3043</td>\n",
       "            <td>6</td>\n",
       "        </tr>\n",
       "        <tr>\n",
       "            <td>Hit Object</td>\n",
       "            <td>2221</td>\n",
       "            <td>7</td>\n",
       "        </tr>\n",
       "        <tr>\n",
       "            <td>Not Stated</td>\n",
       "            <td>1350</td>\n",
       "            <td>8</td>\n",
       "        </tr>\n",
       "        <tr>\n",
       "            <td>Overturned</td>\n",
       "            <td>1052</td>\n",
       "            <td>9</td>\n",
       "        </tr>\n",
       "    </tbody>\n",
       "</table>"
      ],
      "text/plain": [
       "[('Broadside', 17806, 1),\n",
       " ('Vehicle/Pedestrian', 12315, 2),\n",
       " ('Rear End', 9467, 3),\n",
       " ('Sideswipe', 7582, 4),\n",
       " ('Head-On', 3448, 5),\n",
       " ('Other', 3043, 6),\n",
       " ('Hit Object', 2221, 7),\n",
       " ('Not Stated', 1350, 8),\n",
       " ('Overturned', 1052, 9)]"
      ]
     },
     "execution_count": 70,
     "metadata": {},
     "output_type": "execute_result"
    }
   ],
   "source": [
    "%%sql\n",
    "\n",
    "SELECT \n",
    "    type_of_collision, \n",
    "    n_incidents,\n",
    "    DENSE_RANK() OVER (ORDER BY n_incidents DESC) AS rank\n",
    "FROM (\n",
    "    SELECT \n",
    "        type_of_collision, \n",
    "        COUNT(*) AS n_incidents\n",
    "    FROM \n",
    "        view_traffic_crash_all\n",
    "    GROUP BY \n",
    "        type_of_collision);"
   ]
  },
  {
   "cell_type": "markdown",
   "metadata": {},
   "source": [
    "#### **QUESTION #15: Identify the type of victim with the highest number of fatalities.**\n",
    " * The number of deaths from the crash all data doesn't match the fatality data. The fatality data only records deaths from 2014 onwards."
   ]
  },
  {
   "cell_type": "code",
   "execution_count": 101,
   "metadata": {},
   "outputs": [
    {
     "name": "stdout",
     "output_type": "stream",
     "text": [
      " * sqlite:///traffic_crash.db\n",
      "Done.\n"
     ]
    },
    {
     "data": {
      "text/html": [
       "<table>\n",
       "    <thead>\n",
       "        <tr>\n",
       "            <th>fatality_total_deaths</th>\n",
       "        </tr>\n",
       "    </thead>\n",
       "    <tbody>\n",
       "        <tr>\n",
       "            <td>287</td>\n",
       "        </tr>\n",
       "    </tbody>\n",
       "</table>"
      ],
      "text/plain": [
       "[(287,)]"
      ]
     },
     "execution_count": 101,
     "metadata": {},
     "output_type": "execute_result"
    }
   ],
   "source": [
    "%%sql\n",
    "\n",
    "SELECT \n",
    "    count(*) AS fatality_total_deaths \n",
    "FROM traffic_crash_fatality;"
   ]
  },
  {
   "cell_type": "code",
   "execution_count": 99,
   "metadata": {},
   "outputs": [
    {
     "name": "stdout",
     "output_type": "stream",
     "text": [
      " * sqlite:///traffic_crash.db\n",
      "Done.\n"
     ]
    },
    {
     "data": {
      "text/html": [
       "<table>\n",
       "    <thead>\n",
       "        <tr>\n",
       "            <th>deceased</th>\n",
       "            <th>number_killed</th>\n",
       "        </tr>\n",
       "    </thead>\n",
       "    <tbody>\n",
       "        <tr>\n",
       "            <td>Pedestrian</td>\n",
       "            <td>164</td>\n",
       "        </tr>\n",
       "        <tr>\n",
       "            <td>Motorcyclist</td>\n",
       "            <td>41</td>\n",
       "        </tr>\n",
       "        <tr>\n",
       "            <td>Driver</td>\n",
       "            <td>34</td>\n",
       "        </tr>\n",
       "        <tr>\n",
       "            <td>Bicyclist</td>\n",
       "            <td>22</td>\n",
       "        </tr>\n",
       "        <tr>\n",
       "            <td>Passenger</td>\n",
       "            <td>12</td>\n",
       "        </tr>\n",
       "        <tr>\n",
       "            <td>Standup Powered Device Rider</td>\n",
       "            <td>9</td>\n",
       "        </tr>\n",
       "        <tr>\n",
       "            <td>Exterior Passenger</td>\n",
       "            <td>3</td>\n",
       "        </tr>\n",
       "        <tr>\n",
       "            <td>Moped</td>\n",
       "            <td>2</td>\n",
       "        </tr>\n",
       "    </tbody>\n",
       "</table>"
      ],
      "text/plain": [
       "[('Pedestrian', 164),\n",
       " ('Motorcyclist', 41),\n",
       " ('Driver', 34),\n",
       " ('Bicyclist', 22),\n",
       " ('Passenger', 12),\n",
       " ('Standup Powered Device Rider', 9),\n",
       " ('Exterior Passenger', 3),\n",
       " ('Moped', 2)]"
      ]
     },
     "execution_count": 99,
     "metadata": {},
     "output_type": "execute_result"
    }
   ],
   "source": [
    "%%sql\n",
    "\n",
    "SELECT \n",
    "    deceased, \n",
    "    COUNT(*) AS number_killed\n",
    "FROM \n",
    "    traffic_crash_fatality\n",
    "WHERE\n",
    "    CAST(SUBSTR(collision_date, 1, 4) AS INTEGER) < 2024\n",
    "GROUP BY \n",
    "    deceased\n",
    "ORDER BY\n",
    "    number_killed DESC;"
   ]
  },
  {
   "cell_type": "code",
   "execution_count": 97,
   "metadata": {},
   "outputs": [
    {
     "name": "stdout",
     "output_type": "stream",
     "text": [
      " * sqlite:///traffic_crash.db\n",
      "Done.\n"
     ]
    },
    {
     "data": {
      "text/html": [
       "<table>\n",
       "    <thead>\n",
       "        <tr>\n",
       "            <th>sum(number_killed)</th>\n",
       "        </tr>\n",
       "    </thead>\n",
       "    <tbody>\n",
       "        <tr>\n",
       "            <td>559.0</td>\n",
       "        </tr>\n",
       "    </tbody>\n",
       "</table>"
      ],
      "text/plain": [
       "[(559.0,)]"
      ]
     },
     "execution_count": 97,
     "metadata": {},
     "output_type": "execute_result"
    }
   ],
   "source": [
    "%%sql\n",
    "\n",
    "SELECT sum(number_killed) from view_traffic_crash_all limit 10;"
   ]
  },
  {
   "cell_type": "code",
   "execution_count": 106,
   "metadata": {},
   "outputs": [
    {
     "name": "stdout",
     "output_type": "stream",
     "text": [
      " * sqlite:///traffic_crash.db\n",
      "Done.\n"
     ]
    },
    {
     "data": {
      "text/html": [
       "<table>\n",
       "    <thead>\n",
       "        <tr>\n",
       "            <th>MIN(collision_year)</th>\n",
       "        </tr>\n",
       "    </thead>\n",
       "    <tbody>\n",
       "        <tr>\n",
       "            <td>2014</td>\n",
       "        </tr>\n",
       "    </tbody>\n",
       "</table>"
      ],
      "text/plain": [
       "[(2014,)]"
      ]
     },
     "execution_count": 106,
     "metadata": {},
     "output_type": "execute_result"
    }
   ],
   "source": [
    "%%sql\n",
    "\n",
    "SELECT \n",
    "    MIN(collision_year) \n",
    "FROM \n",
    "    traffic_crash_fatality ;"
   ]
  },
  {
   "cell_type": "markdown",
   "metadata": {},
   "source": [
    "#### **QUESTION #16: What is the percentage of incidents where there are no injured people?**"
   ]
  },
  {
   "cell_type": "code",
   "execution_count": 38,
   "metadata": {},
   "outputs": [
    {
     "name": "stdout",
     "output_type": "stream",
     "text": [
      " * sqlite:///traffic_crash.db\n",
      "Done.\n"
     ]
    },
    {
     "data": {
      "text/html": [
       "<table>\n",
       "    <thead>\n",
       "        <tr>\n",
       "            <th>perc_no_injuries</th>\n",
       "        </tr>\n",
       "    </thead>\n",
       "    <tbody>\n",
       "        <tr>\n",
       "            <td>0.96</td>\n",
       "        </tr>\n",
       "    </tbody>\n",
       "</table>"
      ],
      "text/plain": [
       "[(0.96,)]"
      ]
     },
     "execution_count": 38,
     "metadata": {},
     "output_type": "execute_result"
    }
   ],
   "source": [
    "%%sql\n",
    "\n",
    "WITH total_incidents AS (\n",
    "    SELECT COUNT(*) AS total\n",
    "    FROM view_traffic_crash_all\n",
    "),\n",
    "injured_zero_count AS (\n",
    "    SELECT COUNT(*) AS zero_injured\n",
    "    FROM view_traffic_crash_all\n",
    "    WHERE number_injured = 0\n",
    ")\n",
    "SELECT\n",
    "    ROUND((zero_injured * 1.0 / total)*100, 2) AS perc_no_injuries\n",
    "FROM\n",
    "    total_incidents, injured_zero_count;\n",
    "\n",
    "\n",
    "\n"
   ]
  },
  {
   "cell_type": "markdown",
   "metadata": {},
   "source": [
    "# 4. File Creation\n",
    " * Create a csv with relevant columns for future data visualization. "
   ]
  },
  {
   "cell_type": "code",
   "execution_count": 91,
   "metadata": {},
   "outputs": [
    {
     "name": "stdout",
     "output_type": "stream",
     "text": [
      " * sqlite:///traffic_crash.db\n",
      "Done.\n",
      "Done.\n"
     ]
    },
    {
     "data": {
      "text/plain": [
       "[]"
      ]
     },
     "execution_count": 91,
     "metadata": {},
     "output_type": "execute_result"
    }
   ],
   "source": [
    "%%sql\n",
    "\n",
    "DROP VIEW IF EXISTS view_at_fault_demographics;\n",
    "\n",
    "CREATE VIEW view_at_fault_demographics AS\n",
    "SELECT\n",
    "    DISTINCT case_id_pkey,\n",
    "    collision_date,\n",
    "    party_type,\n",
    "    at_fault, \n",
    "    party_sex,\n",
    "    party_age\n",
    "FROM \n",
    "    traffic_crash_victims\n",
    "WHERE\n",
    "    CAST(SUBSTR(collision_date, 7, 4) AS INTEGER) < 2024;\n",
    "    \n",
    "\n",
    "\n"
   ]
  },
  {
   "cell_type": "code",
   "execution_count": 93,
   "metadata": {},
   "outputs": [],
   "source": [
    "#output relevant data in csv files for data visualization\n",
    "\n",
    "conn = sqlite3.connect('traffic_crash.db')\n",
    "query1 = \"SELECT * FROM view_at_fault_demographics\"\n",
    "at_fault_df = pd.read_sql_query(query1, conn)\n",
    "at_fault_df.to_csv('Data/At_Fault_Demographics.csv', index=False)\n",
    "\n",
    "query2 = \"SELECT * FROM view_traffic_crash_all\"\n",
    "traffic_crash_df = pd.read_sql_query(query2, conn)\n",
    "traffic_crash_df['primary_rd'] = traffic_crash_df['primary_rd'].str.title()\n",
    "traffic_crash_df['secondary_rd'] = traffic_crash_df['secondary_rd'].str.title()\n",
    "traffic_crash_df.to_csv('Data/Traffic_Crashes_All_Cleaned.csv', index=False)\n",
    "\n",
    "conn.close()"
   ]
  },
  {
   "cell_type": "code",
   "execution_count": 45,
   "metadata": {},
   "outputs": [
    {
     "data": {
      "text/plain": [
       "'%%sql\\n\\nDROP VIEW IF EXISTS view_data_vis;\\n\\nCREATE VIEW view_data_vis AS\\nSELECT\\n    t.unique_id,\\n    t.case_id_pkey,\\n    t.incident_year,\\n    t.collision_datetime,\\n    t.type_of_collision,\\n    t.number_killed,\\n    t.number_injured,\\n    t.dph_col_grp_description,\\n    t.primary_rd,\\n    t.secondary_rd,\\n    t.road_surface,\\n    t.lighting,\\n    t.tb_latitude,\\n    tb_longitude,\\n    v.victim_id,\\n    v.victim_sex,\\n    v.victim_age\\nFROM \\n    view_traffic_crash_all AS t\\nLEFT JOIN\\n    (SELECT case_id_pkey, victim_id, victim_sex, victim_age \\n     FROM traffic_crash_victims) AS v\\nON t.case_id_pkey = v.case_id_pkey;'"
      ]
     },
     "execution_count": 45,
     "metadata": {},
     "output_type": "execute_result"
    }
   ],
   "source": [
    "'''%%sql\n",
    "\n",
    "DROP VIEW IF EXISTS view_data_vis;\n",
    "\n",
    "CREATE VIEW view_data_vis AS\n",
    "SELECT\n",
    "    t.unique_id,\n",
    "    t.case_id_pkey,\n",
    "    t.incident_year,\n",
    "    t.collision_datetime,\n",
    "    t.type_of_collision,\n",
    "    t.number_killed,\n",
    "    t.number_injured,\n",
    "    t.dph_col_grp_description,\n",
    "    t.primary_rd,\n",
    "    t.secondary_rd,\n",
    "    t.road_surface,\n",
    "    t.lighting,\n",
    "    t.tb_latitude,\n",
    "    tb_longitude,\n",
    "    v.victim_id,\n",
    "    v.victim_sex,\n",
    "    v.victim_age\n",
    "FROM \n",
    "    view_traffic_crash_all AS t\n",
    "LEFT JOIN\n",
    "    (SELECT case_id_pkey, victim_id, victim_sex, victim_age \n",
    "     FROM traffic_crash_victims) AS v\n",
    "ON t.case_id_pkey = v.case_id_pkey;'''\n"
   ]
  }
 ],
 "metadata": {
  "kernelspec": {
   "display_name": "projects",
   "language": "python",
   "name": "python3"
  },
  "language_info": {
   "codemirror_mode": {
    "name": "ipython",
    "version": 3
   },
   "file_extension": ".py",
   "mimetype": "text/x-python",
   "name": "python",
   "nbconvert_exporter": "python",
   "pygments_lexer": "ipython3",
   "version": "3.11.7"
  }
 },
 "nbformat": 4,
 "nbformat_minor": 2
}
